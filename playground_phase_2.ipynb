{
 "cells": [
  {
   "cell_type": "markdown",
   "metadata": {},
   "source": [
    "# Phase 2: Type-based Service Identification (Grouping by Same Type Classes)"
   ]
  },
  {
   "cell_type": "code",
   "execution_count": null,
   "metadata": {},
   "outputs": [],
   "source": [
    "version = \"v_imen\" # All options: v_imen, v_team\n",
    "system = \"pos\" # All options: jforum, cargotracker, petclinic, pos\n",
    "model_type = \"albert\" # All options: ft_codebert, word2vec, albert, codebert, roberta, bert"
   ]
  },
  {
   "cell_type": "markdown",
   "metadata": {},
   "source": [
    "## 1.1 Create connection graph"
   ]
  },
  {
   "cell_type": "code",
   "execution_count": null,
   "metadata": {},
   "outputs": [],
   "source": [
    "import pandas as pd\n",
    "from scipy import spatial\n",
    "import seaborn as sns\n",
    "import matplotlib.pyplot as plt\n",
    "import re\n",
    "from utils import write_distance_to_csv, load_class_code_from_directory, associate_classes_to_types, load_data_from_csv"
   ]
  },
  {
   "cell_type": "code",
   "execution_count": null,
   "metadata": {},
   "outputs": [],
   "source": [
    "class_code = load_class_code_from_directory(system)\n",
    "class_labels = associate_classes_to_types(version, system)\n",
    "class_embeddings = load_data_from_csv(f\"csv_files/{version}_{system}_{model_type}_embeddings.csv\")"
   ]
  },
  {
   "cell_type": "markdown",
   "metadata": {},
   "source": [
    "### 1.1.1 Generate dependency graph"
   ]
  },
  {
   "cell_type": "code",
   "execution_count": null,
   "metadata": {},
   "outputs": [],
   "source": [
    "# Counts the number of dependencies between classes in both directions\n",
    "def extract_dependencies_from_class_code(class_code_dict):\n",
    "    all_classes = set(class_code_dict.keys())\n",
    "    dependencies = {}\n",
    "\n",
    "    for class_name, content in class_code_dict.items():\n",
    "        # Count dependencies for the current class code\n",
    "        for target_class in all_classes:\n",
    "            if class_name != target_class:\n",
    "                # The pattern r'{}\\s*[.\\(]' searches for the target class's name followed by a space, period (.), or an opening parenthesis (().\n",
    "                # This is to avoid counting dependencies for classes that have similar names (e.g. \"User\" and \"UserDetails\")\n",
    "                count = len(re.findall(r'{}\\s*[.\\(]'.format(target_class.split('.')[-1]), content))\n",
    "                if count > 0:\n",
    "                    if (class_name, target_class) in dependencies:\n",
    "                        dependencies[(class_name, target_class)] += count\n",
    "                    else:\n",
    "                        dependencies[(class_name, target_class)] = count\n",
    "    \n",
    "    return all_classes, dependencies\n",
    "\n",
    "def compute_distance_matrix(all_classes, dependencies):\n",
    "    matrix = {}\n",
    "    for class1 in all_classes:\n",
    "        matrix[class1] = {}\n",
    "        for class2 in all_classes:\n",
    "            if class1 == class2:\n",
    "                matrix[class1][class2] = 0\n",
    "            else:\n",
    "                matrix[class1][class2] = dependencies.get((class1, class2), 0) + dependencies.get((class2, class1), 0)\n",
    "    return matrix"
   ]
  },
  {
   "cell_type": "code",
   "execution_count": null,
   "metadata": {},
   "outputs": [],
   "source": [
    "all_classes, dependencies = extract_dependencies_from_class_code(class_code)\n",
    "distance_matrix = compute_distance_matrix(all_classes, dependencies)\n",
    "print(distance_matrix)\n",
    "write_distance_to_csv(distance_matrix, version, system)"
   ]
  },
  {
   "cell_type": "markdown",
   "metadata": {},
   "source": [
    "### 1.1.2 Compute static (structural) distance"
   ]
  },
  {
   "cell_type": "code",
   "execution_count": null,
   "metadata": {},
   "outputs": [],
   "source": [
    "file_name = f\"./csv_files/{version}_{system}_dependency_graph.csv\"\n",
    "data = pd.read_csv(file_name, delimiter=';', header=None, names=['class1', 'class2', 'structural_distance'])\n",
    "\n",
    "# Filter rows where both classes are in class_embeddings\n",
    "structural_df = data[data['class1'].isin(class_embeddings) & data['class2'].isin(class_embeddings)]\n",
    "\n",
    "# Compute min and max structural distances for potential normalization\n",
    "# If needed, normalize structural distances\n",
    "# structural_df['structural_distance'] = (structural_df['structural_distance'] - structural_df['structural_distance'].min()) / \\\n",
    "#                                        (structural_df['structural_distance'].max() - structural_df['structural_distance'].min())"
   ]
  },
  {
   "cell_type": "markdown",
   "metadata": {},
   "source": [
    "### 1.1.3 Compute semantic distance"
   ]
  },
  {
   "cell_type": "code",
   "execution_count": null,
   "metadata": {},
   "outputs": [],
   "source": [
    "# Compute pairwise semantic distances\n",
    "semantic_distances = []\n",
    "for class_name1 in class_embeddings:\n",
    "    for class_name2 in class_embeddings:\n",
    "        distance = 1 - spatial.distance.cosine(class_embeddings[class_name1], class_embeddings[class_name2])\n",
    "        semantic_distances.append([class_name1, class_name2, distance])\n",
    "\n",
    "semantic_df = pd.DataFrame(semantic_distances, columns=['class1', 'class2', 'semantic_distance'])\n",
    "\n",
    "# Filter rows where one of the class names is not in class_labels keys\n",
    "class_label_keys = set(class_labels.keys())\n",
    "semantic_df = semantic_df[(semantic_df['class1'].isin(class_label_keys)) & (semantic_df['class2'].isin(class_label_keys))]\n",
    "\n",
    "# Normalize semantic distances\n",
    "semantic_df['semantic_distance'] = (semantic_df['semantic_distance'] - semantic_df['semantic_distance'].min()) / \\\n",
    "                                   (semantic_df['semantic_distance'].max() - semantic_df['semantic_distance'].min())"
   ]
  },
  {
   "cell_type": "markdown",
   "metadata": {},
   "source": [
    "### 1.1.4 Create connection (call) graph"
   ]
  },
  {
   "cell_type": "code",
   "execution_count": null,
   "metadata": {},
   "outputs": [],
   "source": [
    "# Merge structural and semantic dataframes\n",
    "full_connection_graph = structural_df.merge(semantic_df, on=['class1', 'class2'], how='outer')\n",
    "full_connection_graph.fillna(0, inplace=True)  # Fill NA values (if any) with zeros\n",
    "\n",
    "# Visualize the graph\n",
    "pivot_table = full_connection_graph.pivot(index='class1', columns='class2', values='semantic_distance')\n",
    "\n",
    "plt.figure(figsize=(10, 8))\n",
    "sns.heatmap(pivot_table, cmap='coolwarm', cbar_kws={'label': 'Semantic Distance'})\n",
    "plt.title(\"Semantic Distances Between Classes\")\n",
    "plt.show()"
   ]
  }
 ],
 "metadata": {
  "kernelspec": {
   "display_name": "sys800",
   "language": "python",
   "name": "python3"
  },
  "language_info": {
   "name": "python",
   "version": "3.11.5"
  }
 },
 "nbformat": 4,
 "nbformat_minor": 2
}
