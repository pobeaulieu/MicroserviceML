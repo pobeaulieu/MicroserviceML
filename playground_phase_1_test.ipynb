{
 "cells": [
  {
   "cell_type": "markdown",
   "metadata": {},
   "source": [
    "# Phase 1: Classification (assign Utility, Application, or Entity Tag)\n",
    "\n",
    "## 1.1 Create Embeddings"
   ]
  },
  {
   "cell_type": "code",
   "execution_count": null,
   "metadata": {},
   "outputs": [],
   "source": [
    "version = \"v_team\" #TODO changer\n",
    "system = \"pos\" #TODO changer"
   ]
  },
  {
   "cell_type": "code",
   "execution_count": null,
   "metadata": {},
   "outputs": [],
   "source": [
    "from transformers import AutoTokenizer, AutoModel\n",
    "import torch\n",
    "import csv\n",
    "from sklearn import datasets\n",
    "from sklearn.metrics import confusion_matrix\n",
    "from sklearn.model_selection import train_test_split\n",
    "import numpy as np\n",
    "import torch\n",
    "import csv\n",
    "from sklearn import datasets\n",
    "from sklearn.metrics import confusion_matrix\n",
    "from sklearn.model_selection import train_test_split\n",
    "import numpy as np\n",
    "from sklearn.metrics import classification_report\n",
    "import ast\n",
    "from transformers import BertTokenizer, BertModel\n",
    "from transformers import RobertaTokenizer, RobertaModel\n",
    "from transformers import GPT2LMHeadModel, GPT2Tokenizer\n",
    "from transformers import AlbertTokenizer, AlbertModel\n"
   ]
  },
  {
   "cell_type": "code",
   "execution_count": null,
   "metadata": {},
   "outputs": [],
   "source": [
    "model_type = \"albert\"\n",
    "\n",
    "if (model_type == \"codebert\"): \n",
    "    tokenizer = AutoTokenizer.from_pretrained(\"microsoft/codebert-base\",force_download=False)\n",
    "    model = AutoModel.from_pretrained(\"microsoft/codebert-base\",force_download=False)\n",
    "elif (model_type == \"hugging-face\"):\n",
    "    tokenizer = BertTokenizer.from_pretrained(\"bert-base-uncased\") \n",
    "    model = BertModel.from_pretrained(\"bert-base-uncased\") \n",
    "elif (model_type == \"roberta\"):\n",
    "    tokenizer = RobertaTokenizer.from_pretrained(\"roberta-base\")\n",
    "    model = RobertaModel.from_pretrained(\"roberta-base\")\n",
    "elif (model_type == \"gpt2\"): \n",
    "    tokenizer = GPT2Tokenizer.from_pretrained(\"gpt2\")\n",
    "    model = GPT2LMHeadModel.from_pretrained(\"gpt2\")\n",
    "elif (model_type == \"albert\"): \n",
    "    # pip3 install sentencepiece\n",
    "    tokenizer = AlbertTokenizer.from_pretrained(\"albert-base-v2\")\n",
    "    model = AlbertModel.from_pretrained(\"albert-base-v2\")\n",
    "\n",
    "    "
   ]
  },
  {
   "cell_type": "code",
   "execution_count": null,
   "metadata": {},
   "outputs": [],
   "source": [
    "# Initialize data object with ground truths\n",
    "applicationGtPath = \"ground_truths/\" + version + \"/\" + system + \"/classes/application.txt\"\n",
    "utilityGtPath = \"ground_truths/\" + version + \"/\" + system + \"/classes/utility.txt\"\n",
    "entityGtPath = \"ground_truths/\" + version + \"/\" + system + \"/classes/entity.txt\"\n",
    "\n",
    "entity=[]\n",
    "application=[]\n",
    "utility=[]\n",
    "data={}\n",
    "inp = open(applicationGtPath, \"r\")\n",
    "application = inp.read().splitlines()\n",
    "inp.close()\n",
    "for c in application:\n",
    "    data[c]=[\"application\"]\n",
    "inp = open(utilityGtPath, \"r\")\n",
    "utility = inp.read().splitlines()\n",
    "inp.close()\n",
    "for c in utility:\n",
    "    data[c]=[\"utility\"]\n",
    "inp = open(entityGtPath, \"r\")\n",
    "entity = inp.read().splitlines()\n",
    "inp.close()\n",
    "for c in entity:\n",
    "    data[c]=[\"entity\"]\n",
    "\n",
    "print(data)"
   ]
  },
  {
   "cell_type": "code",
   "execution_count": null,
   "metadata": {},
   "outputs": [],
   "source": [
    "# Loop through source code in path specified and add embeddings in data object\n",
    "path = './src_code/' + system + '/src_code_formatted/'\n",
    "\n",
    "for elem in data:\n",
    "    n=0\n",
    "    allembadding=[]\n",
    "    with open(path+elem.lower()+'.java',encoding = \"ISO-8859-1\",errors=\"ignore\") as f:\n",
    "        print(elem)\n",
    "        lines=f.read()\n",
    "        code_tokenss = tokenizer.tokenize(lines)\n",
    "        while(len(code_tokenss)>(n)*510):\n",
    "            code_tokens=code_tokenss[(n)*510:(n+1)*510]\n",
    "            \n",
    "            if (model_type == \"gpt2\"):\n",
    "                tokens = code_tokens\n",
    "\n",
    "            else:\n",
    "                tokens = [tokenizer.cls_token] +  code_tokens + [tokenizer.sep_token]\n",
    "\n",
    "            tokens_ids = tokenizer.convert_tokens_to_ids(tokens)\n",
    "            context_embeddings = model(torch.tensor(tokens_ids)[None, :])[0]\n",
    "            embaddings= context_embeddings[0][0].tolist()\n",
    "            allembadding.append(embaddings)\n",
    "            n=n+1\n",
    "        npmatrix=np.matrix(allembadding)\n",
    "        meanmatrix=npmatrix.mean(0)\n",
    "        arr=np.array(meanmatrix[0]).flatten()\n",
    "        data[elem].append(arr.tolist())\n"
   ]
  },
  {
   "cell_type": "code",
   "execution_count": null,
   "metadata": {},
   "outputs": [],
   "source": [
    "# Write embeddings to csv file\n",
    "fileName = version + \"_\" + system+ \"_\" + model_type + \"_\"+ 'embeddings.csv'\n",
    "with open(fileName, mode='w') as employee_file:\n",
    "    employee_writer = csv.writer(employee_file, delimiter=';', quotechar='\"', quoting=csv.QUOTE_MINIMAL)\n",
    "    for n in data:\n",
    "        employee_writer.writerow([n,data[n][0], data[n][1]])"
   ]
  },
  {
   "cell_type": "markdown",
   "metadata": {},
   "source": [
    "## 1.2 Train ML models"
   ]
  },
  {
   "cell_type": "code",
   "execution_count": null,
   "metadata": {},
   "outputs": [],
   "source": [
    "import sys\n",
    "csv.field_size_limit(sys.maxsize)\n",
    "\n",
    "X=[]\n",
    "y=[]\n",
    "Xpos=[]\n",
    "ypos=[]\n",
    "namespos=[]\n",
    "names=[]\n",
    "\n",
    "fileName = version + \"_\" + system+ \"_\" + model_type + \"_\"+ 'embeddings.csv'\n",
    "with open(fileName, newline='') as classEmbaddings:\n",
    "    reader = csv.reader(classEmbaddings, delimiter=';')\n",
    "    for row in reader:\n",
    "        X.append(ast.literal_eval(row[2]))\n",
    "        y.append(row[1])\n",
    "        names.append(row[0])\n",
    "\n",
    "X_train, X_test, y_trainnames, y_testnames = train_test_split(X, names, random_state = 0,test_size=0.7)\n",
    "y_train=[]\n",
    "y_test=[]\n",
    "for yt in y_trainnames:\n",
    "    y_train.append(y[names.index(yt)])\n",
    "for yt in y_testnames:\n",
    "    y_test.append(y[names.index(yt)])\n",
    "utilityyes=False\n",
    "for yitem in y_train:\n",
    "    if(yitem==\"utility\"):\n",
    "        utilityyes=True\n",
    "if not utilityyes:\n",
    "    for i,yitem in enumerate(y):\n",
    "        if(yitem==\"utility\"):\n",
    "            y_train.append(\"utility\")\n",
    "            X_train.append(X[i])\n",
    "            break\n",
    "\n",
    "results_file = f\"{version}_{system}_{model_type}_results.csv\"\n"
   ]
  },
  {
   "cell_type": "markdown",
   "metadata": {},
   "source": [
    "## Decision Tree"
   ]
  },
  {
   "cell_type": "code",
   "execution_count": null,
   "metadata": {},
   "outputs": [],
   "source": [
    "from sklearn.tree import DecisionTreeClassifier\n",
    "dtree_model = DecisionTreeClassifier(max_depth = 2).fit(X_train, y_train)\n",
    "dtree_predictions = dtree_model.predict(X_test)\n",
    "cm = confusion_matrix(y_test, dtree_predictions)\n",
    "\n",
    "from sklearn.metrics import accuracy_score\n",
    "score = accuracy_score(y_test, dtree_predictions)"
   ]
  },
  {
   "cell_type": "markdown",
   "metadata": {},
   "source": [
    "## SVM"
   ]
  },
  {
   "cell_type": "code",
   "execution_count": null,
   "metadata": {},
   "outputs": [],
   "source": [
    "from sklearn.svm import SVC\n",
    "svm_model_linear = SVC(kernel = 'linear', C = 2).fit(X_train, y_train)\n",
    "svm_predictions = svm_model_linear.predict(X_test)\n",
    "# model accuracy for X_test  \n",
    "accuracysvm = svm_model_linear.score(X_test, y_test)\n",
    "  \n",
    "# creating a confusion matrix\n",
    "cmsvm = confusion_matrix(y_test, svm_predictions)\n",
    "print(accuracysvm)\n",
    "print(cmsvm)\n",
    "print(classification_report(y_test, svm_predictions, target_names=['Class 1', 'Class 2', 'Class 3']))\n",
    "\n",
    "\n",
    "\n"
   ]
  },
  {
   "cell_type": "markdown",
   "metadata": {},
   "source": [
    "## KNN"
   ]
  },
  {
   "cell_type": "code",
   "execution_count": null,
   "metadata": {},
   "outputs": [],
   "source": [
    "# training a KNN classifier\n",
    "from sklearn.neighbors import KNeighborsClassifier\n",
    "knn = KNeighborsClassifier(n_neighbors = 5).fit(X_train, y_train)\n",
    "  \n",
    "# accuracy on X_test\n",
    "accuracyknn = knn.score(X_test, y_test)\n",
    "print (accuracyknn)\n",
    "  \n",
    "# creating a confusion matrix\n",
    "knn_predictions = knn.predict(X_test) \n",
    "cmknn = confusion_matrix(y_test, knn_predictions)\n",
    "print(cmknn)\n",
    "print(classification_report(y_test, knn_predictions, target_names=['Class 1', 'Class 2', 'Class 3']))"
   ]
  },
  {
   "cell_type": "markdown",
   "metadata": {},
   "source": [
    "## LogisticRegression"
   ]
  },
  {
   "cell_type": "code",
   "execution_count": null,
   "metadata": {},
   "outputs": [],
   "source": [
    "from sklearn.linear_model import LogisticRegression\n",
    "clf = LogisticRegression(random_state=0).fit(X_train, y_train)\n",
    "clf_predictions = clf.predict(X_test)\n",
    "cmclf = confusion_matrix(y_test, clf_predictions)\n",
    "# accuracy on X_test\n",
    "accuracycmclf = clf.score(X_test, y_test)\n",
    "print (accuracycmclf)\n",
    "print(cmclf)\n",
    "print(classification_report(y_test, clf_predictions, target_names=['Class 1', 'Class 2', 'Class 3']))"
   ]
  },
  {
   "cell_type": "markdown",
   "metadata": {},
   "source": [
    "## Gaussian NB"
   ]
  },
  {
   "cell_type": "code",
   "execution_count": null,
   "metadata": {},
   "outputs": [],
   "source": [
    "# training a Naive Bayes classifier\n",
    "from sklearn.naive_bayes import GaussianNB\n",
    "gnb = GaussianNB().fit(X_train, y_train)\n",
    "gnb_predictions = gnb.predict(X_test)\n",
    "  \n",
    "# accuracy on X_test\n",
    "gnb_accuracy = gnb.score(X_test, y_test)\n",
    "  \n",
    "# creating a confusion matrix\n",
    "gnb_cm = confusion_matrix(y_test, gnb_predictions)\n",
    "print(gnb_accuracy)\n",
    "print(gnb_cm)\n",
    "\n",
    "print(classification_report(y_test, gnb_predictions, target_names=['Class 1', 'Class 2', 'Class 3']))\n",
    "\n",
    "with open(results_file, mode='w', newline='') as results_csv:\n",
    "    writer = csv.writer(results_csv)\n",
    "    writer.writerow(\"GaussianNB\")\n",
    "    writer.writerow([\"Metric\", \"Value\"])\n",
    "    writer.writerow([\"Accuracy\", gnb_accuracy])\n",
    "    writer.writerow([\"Confusion Matrix\"])\n",
    "    for row in gnb_cm:\n",
    "        writer.writerow(row)\n",
    "    writer.writerow([\"Classification Report\"])\n",
    "\n",
    "print(f\"Results saved to {results_file}\")"
   ]
  }
 ],
 "metadata": {
  "kernelspec": {
   "display_name": "Python 3.11.3 64-bit",
   "language": "python",
   "name": "python3"
  },
  "language_info": {
   "codemirror_mode": {
    "name": "ipython",
    "version": 3
   },
   "file_extension": ".py",
   "mimetype": "text/x-python",
   "name": "python",
   "nbconvert_exporter": "python",
   "pygments_lexer": "ipython3",
   "version": "3.11.3"
  },
  "vscode": {
   "interpreter": {
    "hash": "b0fa6594d8f4cbf19f97940f81e996739fb7646882a419484c72d19e05852a7e"
   }
  }
 },
 "nbformat": 4,
 "nbformat_minor": 4
}
