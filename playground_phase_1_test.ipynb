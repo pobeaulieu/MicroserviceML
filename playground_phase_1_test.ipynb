{
 "cells": [
  {
   "cell_type": "markdown",
   "metadata": {},
   "source": [
    "# Phase 1: Classification (assign Utility, Application, or Entity Tag)\n",
    "\n",
    "## 1.1 Create Embeddings"
   ]
  },
  {
   "cell_type": "code",
   "execution_count": null,
   "metadata": {},
   "outputs": [],
   "source": [
<<<<<<< HEAD:playground_phase_1_test.ipynb
    "version = \"v_team\" #TODO changer\n",
    "system = \"pos\" #TODO changer"
=======
    "version = \"v_team\" # TODO changer\n",
    "system = \"jforum\" # TODO changer\n",
    "model_type = \"codebert\" # or ft_codebert"
>>>>>>> main:playground_phase_1.ipynb
   ]
  },
  {
   "cell_type": "code",
   "execution_count": null,
   "metadata": {},
   "outputs": [],
   "source": [
    "from transformers import AutoTokenizer, AutoModel\n",
    "import torch\n",
    "from sklearn.model_selection import train_test_split\n",
    "import numpy as np\n",
    "import torch\n",
<<<<<<< HEAD:playground_phase_1_test.ipynb
    "import csv\n",
    "from sklearn import datasets\n",
    "from sklearn.metrics import confusion_matrix\n",
    "from sklearn.model_selection import train_test_split\n",
    "import numpy as np\n",
    "from sklearn.metrics import classification_report\n",
    "import ast\n",
    "from transformers import BertTokenizer, BertModel\n",
    "from transformers import RobertaTokenizer, RobertaModel\n",
    "from transformers import GPT2LMHeadModel, GPT2Tokenizer\n",
    "from transformers import AlbertTokenizer, AlbertModel\n"
=======
    "from utils import load_class_code_from_directory, load_data_from_csv, save_embeddings_to_csv, process_files\n",
    "from embeddings import generate_embeddings_for_java_file"
>>>>>>> main:playground_phase_1.ipynb
   ]
  },
  {
   "cell_type": "code",
   "execution_count": null,
   "metadata": {},
   "outputs": [],
   "source": [
<<<<<<< HEAD:playground_phase_1_test.ipynb
    "model_type = \"albert\"\n",
    "\n",
    "if (model_type == \"codebert\"): \n",
    "    tokenizer = AutoTokenizer.from_pretrained(\"microsoft/codebert-base\",force_download=False)\n",
    "    model = AutoModel.from_pretrained(\"microsoft/codebert-base\",force_download=False)\n",
    "elif (model_type == \"hugging-face\"):\n",
    "    tokenizer = BertTokenizer.from_pretrained(\"bert-base-uncased\") \n",
    "    model = BertModel.from_pretrained(\"bert-base-uncased\") \n",
    "elif (model_type == \"roberta\"):\n",
    "    tokenizer = RobertaTokenizer.from_pretrained(\"roberta-base\")\n",
    "    model = RobertaModel.from_pretrained(\"roberta-base\")\n",
    "elif (model_type == \"gpt2\"): \n",
    "    tokenizer = GPT2Tokenizer.from_pretrained(\"gpt2\")\n",
    "    model = GPT2LMHeadModel.from_pretrained(\"gpt2\")\n",
    "elif (model_type == \"albert\"): \n",
    "    # pip3 install sentencepiece\n",
    "    tokenizer = AlbertTokenizer.from_pretrained(\"albert-base-v2\")\n",
    "    model = AlbertModel.from_pretrained(\"albert-base-v2\")\n",
    "\n",
    "    "
=======
    "# Check if CUDA (GPU) is available and if so, set the device to GPU\n",
    "if torch.cuda.is_available():  \n",
    "  dev = \"cuda:0\" \n",
    "else:  \n",
    "  dev = \"cpu\"  \n",
    "\n",
    "device = torch.device(dev)"
   ]
  },
  {
   "cell_type": "code",
   "execution_count": null,
   "metadata": {},
   "outputs": [],
   "source": [
    "# Select the model and tokenizer\n",
    "if (model_type == \"codebert\"):\n",
    "    tokenizer = AutoTokenizer.from_pretrained(\"microsoft/codebert-base\",force_download=False)\n",
    "    model = AutoModel.from_pretrained(\"microsoft/codebert-base\",force_download=False)\n",
    "elif (model_type == \"ft_codebert\"):\n",
    "    tokenizer = AutoTokenizer.from_pretrained(\"./codebert_finetuned\",force_download=False)\n",
    "    model = AutoModel.from_pretrained(\"./codebert_finetuned\",force_download=False)\n",
    "else:\n",
    "    raise NameError(\"model type not supported\")\n",
    "\n",
    "# Move the model to the GPU if available\n",
    "model = model.to(device)"
>>>>>>> main:playground_phase_1.ipynb
   ]
  },
  {
   "cell_type": "code",
   "execution_count": null,
   "metadata": {},
   "outputs": [],
   "source": [
    "# Labels are 0: Application, 1: Utility, 2: Entity\n",
    "class_labels = process_files(version, system)\n",
    "print(class_labels)"
   ]
  },
  {
   "cell_type": "code",
   "execution_count": null,
   "metadata": {},
   "outputs": [],
   "source": [
    "# For each class in class_code, generate embeddings and add to class_embeddings dictionary\n",
    "class_embeddings = {}\n",
    "class_code = load_class_code_from_directory(system)\n",
    "for class_name, code in class_code.items():\n",
    "    class_embeddings[class_name] = generate_embeddings_for_java_file(code, model, tokenizer, device)\n",
    "\n",
<<<<<<< HEAD:playground_phase_1_test.ipynb
    "for elem in data:\n",
    "    n=0\n",
    "    allembadding=[]\n",
    "    with open(path+elem.lower()+'.java',encoding = \"ISO-8859-1\",errors=\"ignore\") as f:\n",
    "        print(elem)\n",
    "        lines=f.read()\n",
    "        code_tokenss = tokenizer.tokenize(lines)\n",
    "        while(len(code_tokenss)>(n)*510):\n",
    "            code_tokens=code_tokenss[(n)*510:(n+1)*510]\n",
    "            \n",
    "            if (model_type == \"gpt2\"):\n",
    "                tokens = code_tokens\n",
    "\n",
    "            else:\n",
    "                tokens = [tokenizer.cls_token] +  code_tokens + [tokenizer.sep_token]\n",
    "\n",
    "            tokens_ids = tokenizer.convert_tokens_to_ids(tokens)\n",
    "            context_embeddings = model(torch.tensor(tokens_ids)[None, :])[0]\n",
    "            embaddings= context_embeddings[0][0].tolist()\n",
    "            allembadding.append(embaddings)\n",
    "            n=n+1\n",
    "        npmatrix=np.matrix(allembadding)\n",
    "        meanmatrix=npmatrix.mean(0)\n",
    "        arr=np.array(meanmatrix[0]).flatten()\n",
    "        data[elem].append(arr.tolist())\n"
   ]
  },
  {
   "cell_type": "code",
   "execution_count": null,
   "metadata": {},
   "outputs": [],
   "source": [
    "# Write embeddings to csv file\n",
    "fileName = version + \"_\" + system+ \"_\" + model_type + \"_\"+ 'embeddings.csv'\n",
    "with open(fileName, mode='w') as employee_file:\n",
    "    employee_writer = csv.writer(employee_file, delimiter=';', quotechar='\"', quoting=csv.QUOTE_MINIMAL)\n",
    "    for n in data:\n",
    "        employee_writer.writerow([n,data[n][0], data[n][1]])"
=======
    "# Write embeddings to csv file\n",
    "save_embeddings_to_csv(version, system, model_type, class_embeddings, class_labels)"
>>>>>>> main:playground_phase_1.ipynb
   ]
  },
  {
   "cell_type": "markdown",
   "metadata": {},
   "source": [
    "## 1.2 Train ML models"
   ]
  },
  {
   "cell_type": "code",
   "execution_count": null,
   "metadata": {},
   "outputs": [],
   "source": [
<<<<<<< HEAD:playground_phase_1_test.ipynb
    "import sys\n",
    "csv.field_size_limit(sys.maxsize)\n",
    "\n",
    "X=[]\n",
    "y=[]\n",
    "Xpos=[]\n",
    "ypos=[]\n",
    "namespos=[]\n",
    "names=[]\n",
    "\n",
    "fileName = version + \"_\" + system+ \"_\" + model_type + \"_\"+ 'embeddings.csv'\n",
    "with open(fileName, newline='') as classEmbaddings:\n",
    "    reader = csv.reader(classEmbaddings, delimiter=';')\n",
    "    for row in reader:\n",
    "        X.append(ast.literal_eval(row[2]))\n",
    "        y.append(row[1])\n",
    "        names.append(row[0])\n",
    "\n",
    "X_train, X_test, y_trainnames, y_testnames = train_test_split(X, names, random_state = 0,test_size=0.7)\n",
    "y_train=[]\n",
    "y_test=[]\n",
    "for yt in y_trainnames:\n",
    "    y_train.append(y[names.index(yt)])\n",
    "for yt in y_testnames:\n",
    "    y_test.append(y[names.index(yt)])\n",
    "utilityyes=False\n",
    "for yitem in y_train:\n",
    "    if(yitem==\"utility\"):\n",
    "        utilityyes=True\n",
    "if not utilityyes:\n",
    "    for i,yitem in enumerate(y):\n",
    "        if(yitem==\"utility\"):\n",
    "            y_train.append(\"utility\")\n",
    "            X_train.append(X[i])\n",
    "            break\n",
    "\n",
    "results_file = f\"{version}_{system}_{model_type}_results.csv\"\n"
=======
    "filename = f\"{version}_{system}_{model_type}_embeddings.csv\"\n",
    "class_names, labels, embeddings = load_data_from_csv(filename)\n",
    "\n",
    "Xtrain, Xtest, names_train, names_test = train_test_split(embeddings, class_names, test_size=0.3, random_state=0)\n",
    "\n",
    "ytrain = [labels[class_names.index(name)] for name in names_train]\n",
    "ytest = [labels[class_names.index(name)] for name in names_test]\n",
    "\n",
    "Xtrain = np.array(Xtrain)\n",
    "Xtest = np.array(Xtest)\n",
    "\n",
    "# Ensure that there's at least one instance of the \"Utility\" label in the training data\n",
    "if 1 not in ytrain:\n",
    "    utility_index = labels.index(1)\n",
    "    Xtrain = np.append(Xtrain, [embeddings[utility_index]], axis=0)\n",
    "    ytrain.append(1)\n",
    "\n",
    "print(Xtrain)\n",
    "print(len(Xtest))"
   ]
  },
  {
   "cell_type": "code",
   "execution_count": null,
   "metadata": {},
   "outputs": [],
   "source": [
    "from sklearn.tree import DecisionTreeClassifier\n",
    "from sklearn.svm import SVC\n",
    "from sklearn.neighbors import KNeighborsClassifier\n",
    "from sklearn.linear_model import LogisticRegression\n",
    "from sklearn.naive_bayes import GaussianNB\n",
    "from sklearn.metrics import confusion_matrix, accuracy_score, classification_report"
   ]
  },
  {
   "cell_type": "code",
   "execution_count": null,
   "metadata": {},
   "outputs": [],
   "source": [
    "def generate_classification_report(y_true, y_pred):\n",
    "    # Identify unique labels in both true labels and predictions\n",
    "    unique_labels = np.unique(np.concatenate((y_true, y_pred)))\n",
    "\n",
    "    # Map unique labels to their corresponding names\n",
    "    label_names_map = {-1: \"None\", 0: \"Application\", 1: \"Utility\", 2: \"Entity\"}\n",
    "    dynamic_label_names = [label_names_map[label] for label in unique_labels]\n",
    "\n",
    "    # Generate and print the classification report\n",
    "    print(classification_report(y_true, y_pred, target_names=dynamic_label_names))"
>>>>>>> main:playground_phase_1.ipynb
   ]
  },
  {
   "cell_type": "markdown",
   "metadata": {},
   "source": [
    "## Decision Tree"
   ]
  },
  {
   "cell_type": "code",
   "execution_count": null,
   "metadata": {},
   "outputs": [],
   "source": [
    "decision_tree_classifier = DecisionTreeClassifier(max_depth=2).fit(Xtrain, ytrain)\n",
    "decision_tree_predictions = decision_tree_classifier.predict(Xtest)\n",
    "decision_tree_accuracy = accuracy_score(ytest, decision_tree_predictions)\n",
    "decision_tree_confusion_matrix = confusion_matrix(ytest, decision_tree_predictions)\n",
    "print(decision_tree_accuracy)\n",
    "print(decision_tree_confusion_matrix)\n",
    "generate_classification_report(ytest, decision_tree_predictions)"
   ]
  },
  {
   "cell_type": "markdown",
   "metadata": {},
   "source": [
    "## SVM"
   ]
  },
  {
   "cell_type": "code",
   "execution_count": null,
   "metadata": {},
   "outputs": [],
   "source": [
<<<<<<< HEAD:playground_phase_1_test.ipynb
    "from sklearn.svm import SVC\n",
    "svm_model_linear = SVC(kernel = 'linear', C = 2).fit(X_train, y_train)\n",
    "svm_predictions = svm_model_linear.predict(X_test)\n",
    "# model accuracy for X_test  \n",
    "accuracysvm = svm_model_linear.score(X_test, y_test)\n",
    "  \n",
    "# creating a confusion matrix\n",
    "cmsvm = confusion_matrix(y_test, svm_predictions)\n",
    "print(accuracysvm)\n",
    "print(cmsvm)\n",
    "print(classification_report(y_test, svm_predictions, target_names=['Class 1', 'Class 2', 'Class 3']))\n",
    "\n",
    "\n",
    "\n"
=======
    "svm_classifier = SVC(kernel='linear', C=2).fit(Xtrain, ytrain)\n",
    "svm_predictions = svm_classifier.predict(Xtest)\n",
    "svm_accuracy = accuracy_score(ytest, svm_predictions)\n",
    "svm_confusion_matrix = confusion_matrix(ytest, svm_predictions)\n",
    "print(svm_accuracy)\n",
    "print(svm_confusion_matrix)\n",
    "generate_classification_report(ytest, svm_predictions)"
>>>>>>> main:playground_phase_1.ipynb
   ]
  },
  {
   "cell_type": "markdown",
   "metadata": {},
   "source": [
    "## KNN"
   ]
  },
  {
   "cell_type": "code",
   "execution_count": null,
   "metadata": {},
   "outputs": [],
   "source": [
    "knn_classifier = KNeighborsClassifier(n_neighbors=5).fit(Xtrain, ytrain)\n",
    "knn_predictions = knn_classifier.predict(Xtest)\n",
    "knn_accuracy = accuracy_score(ytest, knn_predictions)\n",
    "knn_confusion_matrix = confusion_matrix(ytest, knn_predictions)\n",
    "print(knn_accuracy)\n",
    "print(knn_confusion_matrix)\n",
    "generate_classification_report(ytest, knn_predictions)"
   ]
  },
  {
   "cell_type": "markdown",
   "metadata": {},
   "source": [
    "## LogisticRegression"
   ]
  },
  {
   "cell_type": "code",
   "execution_count": null,
   "metadata": {},
   "outputs": [],
   "source": [
    "logistic_regression_classifier = LogisticRegression(random_state=0).fit(Xtrain, ytrain)\n",
    "logistic_regression_predictions = logistic_regression_classifier.predict(Xtest)\n",
    "logistic_regression_accuracy = accuracy_score(ytest, logistic_regression_predictions)\n",
    "logistic_regression_confusion_matrix = confusion_matrix(ytest, logistic_regression_predictions)\n",
    "print(logistic_regression_accuracy)\n",
    "print(logistic_regression_confusion_matrix)\n",
    "generate_classification_report(ytest, logistic_regression_predictions)"
   ]
  },
  {
   "cell_type": "markdown",
   "metadata": {},
   "source": [
    "## Gaussian NB"
   ]
  },
  {
   "cell_type": "code",
   "execution_count": null,
   "metadata": {},
   "outputs": [],
   "source": [
<<<<<<< HEAD:playground_phase_1_test.ipynb
    "# training a Naive Bayes classifier\n",
    "from sklearn.naive_bayes import GaussianNB\n",
    "gnb = GaussianNB().fit(X_train, y_train)\n",
    "gnb_predictions = gnb.predict(X_test)\n",
    "  \n",
    "# accuracy on X_test\n",
    "gnb_accuracy = gnb.score(X_test, y_test)\n",
    "  \n",
    "# creating a confusion matrix\n",
    "gnb_cm = confusion_matrix(y_test, gnb_predictions)\n",
    "print(gnb_accuracy)\n",
    "print(gnb_cm)\n",
    "\n",
    "print(classification_report(y_test, gnb_predictions, target_names=['Class 1', 'Class 2', 'Class 3']))\n",
    "\n",
    "with open(results_file, mode='w', newline='') as results_csv:\n",
    "    writer = csv.writer(results_csv)\n",
    "    writer.writerow(\"GaussianNB\")\n",
    "    writer.writerow([\"Metric\", \"Value\"])\n",
    "    writer.writerow([\"Accuracy\", gnb_accuracy])\n",
    "    writer.writerow([\"Confusion Matrix\"])\n",
    "    for row in gnb_cm:\n",
    "        writer.writerow(row)\n",
    "    writer.writerow([\"Classification Report\"])\n",
    "\n",
    "print(f\"Results saved to {results_file}\")"
=======
    "naive_bayes_classifier = GaussianNB().fit(Xtrain, ytrain)\n",
    "naive_bayes_predictions = naive_bayes_classifier.predict(Xtest)\n",
    "naive_bayes_accuracy = accuracy_score(ytest, naive_bayes_predictions)\n",
    "naive_bayes_confusion_matrix = confusion_matrix(ytest, naive_bayes_predictions)\n",
    "print(naive_bayes_accuracy)\n",
    "print(naive_bayes_confusion_matrix)\n",
    "generate_classification_report(ytest, naive_bayes_predictions)"
>>>>>>> main:playground_phase_1.ipynb
   ]
  }
 ],
 "metadata": {
  "kernelspec": {
   "display_name": "Python 3.11.3 64-bit",
   "language": "python",
   "name": "python3"
  },
  "language_info": {
   "codemirror_mode": {
    "name": "ipython",
    "version": 3
   },
   "file_extension": ".py",
   "mimetype": "text/x-python",
   "name": "python",
   "nbconvert_exporter": "python",
   "pygments_lexer": "ipython3",
   "version": "3.11.5"
  },
  "vscode": {
   "interpreter": {
    "hash": "b0fa6594d8f4cbf19f97940f81e996739fb7646882a419484c72d19e05852a7e"
   }
  }
 },
 "nbformat": 4,
 "nbformat_minor": 4
}
