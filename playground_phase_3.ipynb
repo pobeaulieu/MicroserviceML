{
 "cells": [
  {
   "cell_type": "markdown",
   "metadata": {},
   "source": [
    "# Phase 3: Microservice Identification (Grouping by Similar Services)"
   ]
  },
  {
   "cell_type": "code",
   "execution_count": 96,
   "metadata": {},
   "outputs": [],
   "source": [
    "version = \"v_imen\" # All options: v_imen, v_team\n",
    "system = \"pos\" # All options: jforum, cargotracker, petclinic, pos\n",
    "model_type = \"albert\" # All options: ft_codebert, word2vec, albert, codebert, roberta, bert"
   ]
  },
  {
   "cell_type": "markdown",
   "metadata": {},
   "source": [
    "## 1.1 Create service graph"
   ]
  },
  {
   "cell_type": "code",
   "execution_count": 97,
   "metadata": {},
   "outputs": [],
   "source": [
    "import pandas as pd\n",
    "from scipy import spatial\n",
    "from utils import load_data_from_csv"
   ]
  },
  {
   "cell_type": "code",
   "execution_count": 98,
   "metadata": {},
   "outputs": [],
   "source": [
    "# Read CSV to DataFrame\n",
    "best_community_detection_algorithm = 'EdMot' # Change this\n",
    "communities_df = pd.read_csv(f\"generated_data/community/{version}_{system}_{best_community_detection_algorithm}_communities.csv\")\n",
    "class_graph_df = pd.read_csv(f\"generated_data/graph/class/{version}_{system}_class_graph.csv\")\n",
    "class_names, class_labels, class_embeddings = load_data_from_csv(f\"generated_data/embedding/{version}_{system}_{model_type}_embeddings.csv\")\n",
    "\n",
    "# Data Structuring\n",
    "class_embeddings_dict = dict(zip(class_names, class_embeddings))"
   ]
  },
  {
   "cell_type": "code",
   "execution_count": 99,
   "metadata": {},
   "outputs": [],
   "source": [
    "# Function to calculate service embedding\n",
    "def calculate_service_embedding(service_classes):\n",
    "    return sum(class_embeddings_dict[class_name] for class_name in service_classes) / len(service_classes)\n",
    "\n",
    "# Calculate service embeddings\n",
    "service_to_embedding = communities_df.groupby('service')['class_name'].apply(lambda x: calculate_service_embedding(x)).to_dict()\n",
    "\n",
    "\n",
    "service_graph_data = []\n",
    "for row in class_graph_df.itertuples(index=True):\n",
    "    mrs1 = communities_df.loc[communities_df['class_name'] == row.class1]\n",
    "    mrs2 = communities_df.loc[communities_df['class_name'] == row.class2]\n",
    "    \n",
    "    # Check if there are matching rows for row.class2\n",
    "    if not mrs1.empty and not mrs2.empty:\n",
    "        service1 = mrs1['service'].values[0]\n",
    "        service2 = mrs2['service'].values[0]\n",
    "    else:\n",
    "        # Handle the case where there are no matches for row.class2\n",
    "        continue\n",
    "\n",
    "    if service1 == service2:\n",
    "        continue\n",
    "    static_distance = row.static_distance\n",
    "    semantic_distance = row.semantic_distance\n",
    "    if semantic_distance is not None:\n",
    "        service_graph_data.append([service1, service2, static_distance, semantic_distance])\n",
    "\n",
    "\n",
    "# Create service_graph_df DataFrame\n",
    "service_graph_df = pd.DataFrame(service_graph_data, columns=['service1', 'service2', 'static_distance', 'semantic_distance'])\n",
    "\n",
    "# Output service_graph_df\n",
    "pd.set_option('display.max_rows', None)\n",
    "pd.set_option('display.max_columns', None)\n",
    "\n",
    "# Save service_graph_df to CSV (we may need to add the community detection algo in the filename)\n",
    "service_graph_df.to_csv(f\"generated_data/graph/service/{version}_{system}_service_graph.csv\", index=False)"
   ]
  },
  {
   "cell_type": "markdown",
   "metadata": {},
   "source": [
    "## 1.2 Cluster services"
   ]
  }
 ],
 "metadata": {
  "kernelspec": {
   "display_name": "sys800",
   "language": "python",
   "name": "python3"
  },
  "language_info": {
   "codemirror_mode": {
    "name": "ipython",
    "version": 3
   },
   "file_extension": ".py",
   "mimetype": "text/x-python",
   "name": "python",
   "nbconvert_exporter": "python",
   "pygments_lexer": "ipython3",
   "version": "3.11.5"
  }
 },
 "nbformat": 4,
 "nbformat_minor": 2
}
