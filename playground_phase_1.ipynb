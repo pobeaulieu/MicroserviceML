{
 "cells": [
  {
   "cell_type": "markdown",
   "metadata": {},
   "source": [
    "# Create Embeddings"
   ]
  },
  {
   "cell_type": "code",
   "execution_count": 13,
   "metadata": {},
   "outputs": [],
   "source": [
    "from transformers import AutoTokenizer, AutoModel\n",
    "import torch\n",
    "import csv\n",
    "from sklearn import datasets\n",
    "from sklearn.metrics import confusion_matrix\n",
    "from sklearn.model_selection import train_test_split\n",
    "import numpy as np\n",
    "import torch\n",
    "import csv\n",
    "from sklearn import datasets\n",
    "from sklearn.metrics import confusion_matrix\n",
    "from sklearn.model_selection import train_test_split\n",
    "import numpy as np\n",
    "from sklearn.metrics import classification_report\n",
    "import ast\n"
   ]
  },
  {
   "cell_type": "code",
   "execution_count": 14,
   "metadata": {},
   "outputs": [],
   "source": [
    "# Code Bert Tokenizer\n",
    "\n",
    "tokenizer = AutoTokenizer.from_pretrained(\"microsoft/codebert-base\",force_download=False)\n",
    "model = AutoModel.from_pretrained(\"microsoft/codebert-base\",force_download=False)"
   ]
  },
  {
   "cell_type": "code",
   "execution_count": 15,
   "metadata": {},
   "outputs": [
    {
     "name": "stdout",
     "output_type": "stream",
     "text": [
      "{'com.rafsan.inventory.MainApp': ['application'], 'com.rafsan.inventory.controller.admin.AdminController': ['application'], 'com.rafsan.inventory.interfaces.CategoryInterface': ['application'], 'com.rafsan.inventory.controller.category.AddController': ['application'], 'com.rafsan.inventory.controller.category.CategoryController': ['application'], 'com.rafsan.inventory.controller.category.EditController': ['application'], 'com.rafsan.inventory.interfaces.EmployeeInterface': ['application'], 'com.rafsan.inventory.controller.employee.AddController': ['application'], 'com.rafsan.inventory.controller.employee.EditController': ['application'], 'com.rafsan.inventory.controller.employee.EmployeeController': ['application'], 'com.rafsan.inventory.interfaces.ProductInterface': ['application'], 'com.rafsan.inventory.controller.product.AddController': ['application'], 'com.rafsan.inventory.controller.product.EditController': ['application'], 'com.rafsan.inventory.controller.product.ProductController': ['application'], 'com.rafsan.inventory.interfaces.PurchaseInterface': ['application'], 'com.rafsan.inventory.controller.purchase.AddController': ['application'], 'com.rafsan.inventory.controller.purchase.PurchaseController': ['application'], 'com.rafsan.inventory.interfaces.ReportInterface': ['application'], 'com.rafsan.inventory.controller.report.ReportController': ['application'], 'com.rafsan.inventory.controller.report.ViewController': ['application'], 'com.rafsan.inventory.interfaces.SupplierInterface': ['application'], 'com.rafsan.inventory.controller.supplier.AddController': ['application'], 'com.rafsan.inventory.controller.supplier.EditController': ['application'], 'com.rafsan.inventory.controller.supplier.SupplierController': ['application'], 'com.rafsan.inventory.interfaces.SaleInterface': ['application'], 'com.rafsan.inventory.controller.sales.SalesController': ['application'], 'com.rafsan.inventory.controller.pos.ConfirmController': ['application'], 'com.rafsan.inventory.controller.pos.InvoiceController': ['application'], 'com.rafsan.inventory.controller.pos.PosController': ['application'], 'com.rafsan.inventory.HibernateUtil': ['utility'], 'com.rafsan.inventory.pdf.PrintInvoice': ['utility'], 'com.rafsan.inventory.controller.login.LoginController': ['utility'], 'com.rafsan.inventory.entity.Category': ['entity'], 'com.rafsan.inventory.model.CategoryModel': ['entity'], 'com.rafsan.inventory.dao.CategoryDao': ['entity'], 'com.rafsan.inventory.entity.Employee': ['entity'], 'com.rafsan.inventory.model.EmployeeModel': ['entity'], 'com.rafsan.inventory.dao.EmployeeDao': ['entity'], 'com.rafsan.inventory.entity.Invoice': ['entity'], 'com.rafsan.inventory.model.InvoiceModel': ['entity'], 'com.rafsan.inventory.dao.InvoiceDao': ['entity'], 'com.rafsan.inventory.entity.Item': ['entity'], 'com.rafsan.inventory.entity.Payment': ['entity'], 'com.rafsan.inventory.entity.Product': ['entity'], 'com.rafsan.inventory.model.ProductModel': ['entity'], 'com.rafsan.inventory.dao.ProductDao': ['entity'], 'com.rafsan.inventory.entity.Purchase': ['entity'], 'com.rafsan.inventory.model.PurchaseModel': ['entity'], 'com.rafsan.inventory.dao.PurchaseDao': ['entity'], 'com.rafsan.inventory.entity.Sale': ['entity'], 'com.rafsan.inventory.model.SalesModel': ['entity'], 'com.rafsan.inventory.dao.SaleDao': ['entity'], 'com.rafsan.inventory.entity.Supplier': ['entity'], 'com.rafsan.inventory.model.SupplierModel': ['entity'], 'com.rafsan.inventory.dao.SupplierDao': ['entity']}\n"
     ]
    }
   ],
   "source": [
    "# Initialize data object with ground truths\n",
    "applicationGtPath = \"ground_truths/v_imen/pos/posapplication.txt\"\n",
    "utilityGtPath = \"ground_truths/v_imen/pos/posutility.txt\"\n",
    "entityGtPath = \"ground_truths/v_imen/pos/posentity.txt\"\n",
    "\n",
    "entity=[]\n",
    "application=[]\n",
    "utility=[]\n",
    "data={}\n",
    "inp = open(applicationGtPath, \"r\")\n",
    "application = inp.read().splitlines()\n",
    "inp.close()\n",
    "for c in application:\n",
    "    data[c]=[\"application\"]\n",
    "inp = open(utilityGtPath, \"r\")\n",
    "utility = inp.read().splitlines()\n",
    "inp.close()\n",
    "for c in utility:\n",
    "    data[c]=[\"utility\"]\n",
    "inp = open(entityGtPath, \"r\")\n",
    "entity = inp.read().splitlines()\n",
    "inp.close()\n",
    "for c in entity:\n",
    "    data[c]=[\"entity\"]\n",
    "\n",
    "print(data)"
   ]
  },
  {
   "cell_type": "code",
   "execution_count": 16,
   "metadata": {},
   "outputs": [
    {
     "name": "stderr",
     "output_type": "stream",
     "text": [
      "Token indices sequence length is longer than the specified maximum sequence length for this model (801 > 512). Running this sequence through the model will result in indexing errors\n"
     ]
    },
    {
     "name": "stdout",
     "output_type": "stream",
     "text": [
      "com.rafsan.inventory.MainApp\n",
      "com.rafsan.inventory.controller.admin.AdminController\n",
      "com.rafsan.inventory.interfaces.CategoryInterface\n",
      "com.rafsan.inventory.controller.category.AddController\n",
      "com.rafsan.inventory.controller.category.CategoryController\n",
      "com.rafsan.inventory.controller.category.EditController\n",
      "com.rafsan.inventory.interfaces.EmployeeInterface\n",
      "com.rafsan.inventory.controller.employee.AddController\n",
      "com.rafsan.inventory.controller.employee.EditController\n",
      "com.rafsan.inventory.controller.employee.EmployeeController\n",
      "com.rafsan.inventory.interfaces.ProductInterface\n",
      "com.rafsan.inventory.controller.product.AddController\n",
      "com.rafsan.inventory.controller.product.EditController\n",
      "com.rafsan.inventory.controller.product.ProductController\n",
      "com.rafsan.inventory.interfaces.PurchaseInterface\n",
      "com.rafsan.inventory.controller.purchase.AddController\n",
      "com.rafsan.inventory.controller.purchase.PurchaseController\n",
      "com.rafsan.inventory.interfaces.ReportInterface\n",
      "com.rafsan.inventory.controller.report.ReportController\n",
      "com.rafsan.inventory.controller.report.ViewController\n",
      "com.rafsan.inventory.interfaces.SupplierInterface\n",
      "com.rafsan.inventory.controller.supplier.AddController\n",
      "com.rafsan.inventory.controller.supplier.EditController\n",
      "com.rafsan.inventory.controller.supplier.SupplierController\n",
      "com.rafsan.inventory.interfaces.SaleInterface\n",
      "com.rafsan.inventory.controller.sales.SalesController\n",
      "com.rafsan.inventory.controller.pos.ConfirmController\n",
      "com.rafsan.inventory.controller.pos.InvoiceController\n",
      "com.rafsan.inventory.controller.pos.PosController\n",
      "com.rafsan.inventory.HibernateUtil\n",
      "com.rafsan.inventory.pdf.PrintInvoice\n",
      "com.rafsan.inventory.controller.login.LoginController\n",
      "com.rafsan.inventory.entity.Category\n",
      "com.rafsan.inventory.model.CategoryModel\n",
      "com.rafsan.inventory.dao.CategoryDao\n",
      "com.rafsan.inventory.entity.Employee\n",
      "com.rafsan.inventory.model.EmployeeModel\n",
      "com.rafsan.inventory.dao.EmployeeDao\n",
      "com.rafsan.inventory.entity.Invoice\n",
      "com.rafsan.inventory.model.InvoiceModel\n",
      "com.rafsan.inventory.dao.InvoiceDao\n",
      "com.rafsan.inventory.entity.Item\n",
      "com.rafsan.inventory.entity.Payment\n",
      "com.rafsan.inventory.entity.Product\n",
      "com.rafsan.inventory.model.ProductModel\n",
      "com.rafsan.inventory.dao.ProductDao\n",
      "com.rafsan.inventory.entity.Purchase\n",
      "com.rafsan.inventory.model.PurchaseModel\n",
      "com.rafsan.inventory.dao.PurchaseDao\n",
      "com.rafsan.inventory.entity.Sale\n",
      "com.rafsan.inventory.model.SalesModel\n",
      "com.rafsan.inventory.dao.SaleDao\n",
      "com.rafsan.inventory.entity.Supplier\n",
      "com.rafsan.inventory.model.SupplierModel\n",
      "com.rafsan.inventory.dao.SupplierDao\n"
     ]
    }
   ],
   "source": [
    "# Loop through source code in path specified and add embeddings in data object\n",
    "path = './src_code/pos/src_code_formatted/'\n",
    "\n",
    "for elem in data:\n",
    "    n=0\n",
    "    allembadding=[]\n",
    "    with open(path+elem.lower()+'.java',encoding = \"ISO-8859-1\",errors=\"ignore\") as f:\n",
    "        print(elem)\n",
    "        lines=f.read()\n",
    "        code_tokenss = tokenizer.tokenize(lines)\n",
    "        while(len(code_tokenss)>(n)*510):\n",
    "            code_tokens=code_tokenss[(n)*510:(n+1)*510]\n",
    "            tokens = [tokenizer.cls_token] +  code_tokens + [tokenizer.sep_token]\n",
    "            tokens_ids = tokenizer.convert_tokens_to_ids(tokens)\n",
    "            context_embeddings = model(torch.tensor(tokens_ids)[None, :])[0]\n",
    "            embaddings= context_embeddings[0][0].tolist()\n",
    "            allembadding.append(embaddings)\n",
    "            n=n+1\n",
    "        npmatrix=np.matrix(allembadding)\n",
    "        meanmatrix=npmatrix.mean(0)\n",
    "        arr=np.array(meanmatrix[0]).flatten()\n",
    "        data[elem].append(arr.tolist())\n"
   ]
  },
  {
   "cell_type": "code",
   "execution_count": 17,
   "metadata": {},
   "outputs": [],
   "source": [
    "# Write embeddings to csv file\n",
    "fileName = 'posEmbeddings.csv'\n",
    "with open(fileName, mode='w') as employee_file:\n",
    "    employee_writer = csv.writer(employee_file, delimiter=';', quotechar='\"', quoting=csv.QUOTE_MINIMAL)\n",
    "    for n in data:\n",
    "        employee_writer.writerow([n,data[n][0], data[n][1]])"
   ]
  },
  {
   "cell_type": "markdown",
   "metadata": {},
   "source": [
    "# Class classification (assign Utility, Application, or Entity Tag)"
   ]
  },
  {
   "cell_type": "code",
   "execution_count": 18,
   "metadata": {},
   "outputs": [],
   "source": [
    "X=[]\n",
    "y=[]\n",
    "Xpos=[]\n",
    "ypos=[]\n",
    "namespos=[]\n",
    "names=[]\n",
    "\n",
    "fileName = 'posEmbeddings.csv'\n",
    "with open(fileName, newline='') as classEmbaddings:\n",
    "    reader = csv.reader(classEmbaddings, delimiter=';')\n",
    "    for row in reader:\n",
    "        X.append(ast.literal_eval(row[2]))\n",
    "        y.append(row[1])\n",
    "        names.append(row[0])\n",
    "\n",
    "X_train, X_test, y_trainnames, y_testnames = train_test_split(X, names, random_state = 0,test_size=0.7)\n",
    "y_train=[]\n",
    "y_test=[]\n",
    "for yt in y_trainnames:\n",
    "    y_train.append(y[names.index(yt)])\n",
    "for yt in y_testnames:\n",
    "    y_test.append(y[names.index(yt)])\n",
    "utilityyes=False\n",
    "for yitem in y_train:\n",
    "    if(yitem==\"utility\"):\n",
    "        utilityyes=True\n",
    "if not utilityyes:\n",
    "    for i,yitem in enumerate(y):\n",
    "        if(yitem==\"utility\"):\n",
    "            y_train.append(\"utility\")\n",
    "            X_train.append(X[i])\n",
    "            break"
   ]
  },
  {
   "cell_type": "markdown",
   "metadata": {},
   "source": [
    "## SVM"
   ]
  },
  {
   "cell_type": "code",
   "execution_count": 19,
   "metadata": {},
   "outputs": [],
   "source": [
    "from sklearn.tree import DecisionTreeClassifier\n",
    "dtree_model = DecisionTreeClassifier(max_depth = 2).fit(X_train, y_train)\n",
    "dtree_predictions = dtree_model.predict(X_test)\n",
    "cm = confusion_matrix(y_test, dtree_predictions)\n",
    "\n",
    "from sklearn.metrics import accuracy_score\n",
    "score = accuracy_score(y_test, dtree_predictions)"
   ]
  },
  {
   "cell_type": "code",
   "execution_count": 20,
   "metadata": {},
   "outputs": [
    {
     "name": "stdout",
     "output_type": "stream",
     "text": [
      "0.9230769230769231\n",
      "[[19  0  0]\n",
      " [ 1 16  0]\n",
      " [ 2  0  1]]\n",
      "              precision    recall  f1-score   support\n",
      "\n",
      "     Class 1       0.86      1.00      0.93        19\n",
      "     Class 2       1.00      0.94      0.97        17\n",
      "     Class 3       1.00      0.33      0.50         3\n",
      "\n",
      "    accuracy                           0.92        39\n",
      "   macro avg       0.95      0.76      0.80        39\n",
      "weighted avg       0.93      0.92      0.91        39\n",
      "\n"
     ]
    }
   ],
   "source": [
    "from sklearn.svm import SVC\n",
    "svm_model_linear = SVC(kernel = 'linear', C = 2).fit(X_train, y_train)\n",
    "svm_predictions = svm_model_linear.predict(X_test)\n",
    "# model accuracy for X_test  \n",
    "accuracysvm = svm_model_linear.score(X_test, y_test)\n",
    "  \n",
    "# creating a confusion matrix\n",
    "cmsvm = confusion_matrix(y_test, svm_predictions)\n",
    "print(accuracysvm)\n",
    "print(cmsvm)\n",
    "print(classification_report(y_test, svm_predictions, target_names=['Class 1', 'Class 2', 'Class 3']))"
   ]
  },
  {
   "cell_type": "code",
   "execution_count": 21,
   "metadata": {},
   "outputs": [
    {
     "name": "stdout",
     "output_type": "stream",
     "text": [
      "0.6666666666666666\n",
      "[[19  0  0]\n",
      " [10  7  0]\n",
      " [ 3  0  0]]\n",
      "              precision    recall  f1-score   support\n",
      "\n",
      "     Class 1       0.59      1.00      0.75        19\n",
      "     Class 2       1.00      0.41      0.58        17\n",
      "     Class 3       0.00      0.00      0.00         3\n",
      "\n",
      "    accuracy                           0.67        39\n",
      "   macro avg       0.53      0.47      0.44        39\n",
      "weighted avg       0.73      0.67      0.62        39\n",
      "\n"
     ]
    },
    {
     "name": "stderr",
     "output_type": "stream",
     "text": [
      "/opt/homebrew/lib/python3.11/site-packages/sklearn/metrics/_classification.py:1469: UndefinedMetricWarning: Precision and F-score are ill-defined and being set to 0.0 in labels with no predicted samples. Use `zero_division` parameter to control this behavior.\n",
      "  _warn_prf(average, modifier, msg_start, len(result))\n",
      "/opt/homebrew/lib/python3.11/site-packages/sklearn/metrics/_classification.py:1469: UndefinedMetricWarning: Precision and F-score are ill-defined and being set to 0.0 in labels with no predicted samples. Use `zero_division` parameter to control this behavior.\n",
      "  _warn_prf(average, modifier, msg_start, len(result))\n",
      "/opt/homebrew/lib/python3.11/site-packages/sklearn/metrics/_classification.py:1469: UndefinedMetricWarning: Precision and F-score are ill-defined and being set to 0.0 in labels with no predicted samples. Use `zero_division` parameter to control this behavior.\n",
      "  _warn_prf(average, modifier, msg_start, len(result))\n"
     ]
    }
   ],
   "source": [
    "# training a KNN classifier\n",
    "from sklearn.neighbors import KNeighborsClassifier\n",
    "knn = KNeighborsClassifier(n_neighbors = 5).fit(X_train, y_train)\n",
    "  \n",
    "# accuracy on X_test\n",
    "accuracyknn = knn.score(X_test, y_test)\n",
    "print (accuracyknn)\n",
    "  \n",
    "# creating a confusion matrix\n",
    "knn_predictions = knn.predict(X_test) \n",
    "cmknn = confusion_matrix(y_test, knn_predictions)\n",
    "print(cmknn)\n",
    "print(classification_report(y_test, knn_predictions, target_names=['Class 1', 'Class 2', 'Class 3']))"
   ]
  },
  {
   "cell_type": "code",
   "execution_count": 22,
   "metadata": {},
   "outputs": [
    {
     "name": "stdout",
     "output_type": "stream",
     "text": [
      "0.8717948717948718\n",
      "[[19  0  0]\n",
      " [ 3 14  0]\n",
      " [ 2  0  1]]\n",
      "              precision    recall  f1-score   support\n",
      "\n",
      "     Class 1       0.79      1.00      0.88        19\n",
      "     Class 2       1.00      0.82      0.90        17\n",
      "     Class 3       1.00      0.33      0.50         3\n",
      "\n",
      "    accuracy                           0.87        39\n",
      "   macro avg       0.93      0.72      0.76        39\n",
      "weighted avg       0.90      0.87      0.86        39\n",
      "\n"
     ]
    },
    {
     "name": "stderr",
     "output_type": "stream",
     "text": [
      "/opt/homebrew/lib/python3.11/site-packages/sklearn/linear_model/_logistic.py:460: ConvergenceWarning: lbfgs failed to converge (status=1):\n",
      "STOP: TOTAL NO. of ITERATIONS REACHED LIMIT.\n",
      "\n",
      "Increase the number of iterations (max_iter) or scale the data as shown in:\n",
      "    https://scikit-learn.org/stable/modules/preprocessing.html\n",
      "Please also refer to the documentation for alternative solver options:\n",
      "    https://scikit-learn.org/stable/modules/linear_model.html#logistic-regression\n",
      "  n_iter_i = _check_optimize_result(\n"
     ]
    }
   ],
   "source": [
    "from sklearn.linear_model import LogisticRegression\n",
    "clf = LogisticRegression(random_state=0).fit(X_train, y_train)\n",
    "clf_predictions = clf.predict(X_test)\n",
    "cmclf = confusion_matrix(y_test, clf_predictions)\n",
    "# accuracy on X_test\n",
    "accuracycmclf = clf.score(X_test, y_test)\n",
    "print (accuracycmclf)\n",
    "print(cmclf)\n",
    "print(classification_report(y_test, clf_predictions, target_names=['Class 1', 'Class 2', 'Class 3']))"
   ]
  },
  {
   "cell_type": "code",
   "execution_count": 23,
   "metadata": {},
   "outputs": [
    {
     "name": "stdout",
     "output_type": "stream",
     "text": [
      "0.8461538461538461\n",
      "[[19  0  0]\n",
      " [ 4 13  0]\n",
      " [ 2  0  1]]\n",
      "              precision    recall  f1-score   support\n",
      "\n",
      "     Class 1       0.76      1.00      0.86        19\n",
      "     Class 2       1.00      0.76      0.87        17\n",
      "     Class 3       1.00      0.33      0.50         3\n",
      "\n",
      "    accuracy                           0.85        39\n",
      "   macro avg       0.92      0.70      0.74        39\n",
      "weighted avg       0.88      0.85      0.84        39\n",
      "\n"
     ]
    }
   ],
   "source": [
    "# training a Naive Bayes classifier\n",
    "from sklearn.naive_bayes import GaussianNB\n",
    "gnb = GaussianNB().fit(X_train, y_train)\n",
    "gnb_predictions = gnb.predict(X_test)\n",
    "  \n",
    "# accuracy on X_test\n",
    "gnb_accuracy = gnb.score(X_test, y_test)\n",
    "  \n",
    "# creating a confusion matrix\n",
    "gnb_cm = confusion_matrix(y_test, gnb_predictions)\n",
    "print(gnb_accuracy)\n",
    "print(gnb_cm)\n",
    "\n",
    "print(classification_report(y_test, gnb_predictions, target_names=['Class 1', 'Class 2', 'Class 3']))"
   ]
  }
 ],
 "metadata": {
  "kernelspec": {
   "display_name": "Python 3.11.3 64-bit",
   "language": "python",
   "name": "python3"
  },
  "language_info": {
   "codemirror_mode": {
    "name": "ipython",
    "version": 3
   },
   "file_extension": ".py",
   "mimetype": "text/x-python",
   "name": "python",
   "nbconvert_exporter": "python",
   "pygments_lexer": "ipython3",
   "version": "3.11.3"
  },
  "vscode": {
   "interpreter": {
    "hash": "b0fa6594d8f4cbf19f97940f81e996739fb7646882a419484c72d19e05852a7e"
   }
  }
 },
 "nbformat": 4,
 "nbformat_minor": 4
}
