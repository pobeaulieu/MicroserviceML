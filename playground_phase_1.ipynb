{
 "cells": [
  {
   "cell_type": "markdown",
   "metadata": {},
   "source": [
    "# Phase 1: Classification (assign Utility, Application, or Entity Tag)\n",
    "\n",
    "## 1.1 Create Embeddings"
   ]
  },
  {
   "cell_type": "code",
   "execution_count": null,
   "metadata": {},
   "outputs": [],
   "source": [
    "from transformers import AutoTokenizer, AutoModel\n",
    "import torch\n",
    "import csv\n",
    "from sklearn import datasets\n",
    "from sklearn.metrics import confusion_matrix\n",
    "from sklearn.model_selection import train_test_split\n",
    "import numpy as np\n",
    "import torch\n",
    "import csv\n",
    "from sklearn import datasets\n",
    "from sklearn.metrics import confusion_matrix\n",
    "from sklearn.model_selection import train_test_split\n",
    "import numpy as np\n",
    "from sklearn.metrics import classification_report\n",
    "import ast\n"
   ]
  },
  {
   "cell_type": "code",
   "execution_count": null,
   "metadata": {},
   "outputs": [],
   "source": [
    "# Code Bert Tokenizer\n",
    "\n",
    "tokenizer = AutoTokenizer.from_pretrained(\"microsoft/codebert-base\",force_download=False)\n",
    "model = AutoModel.from_pretrained(\"microsoft/codebert-base\",force_download=False)"
   ]
  },
  {
   "cell_type": "code",
   "execution_count": null,
   "metadata": {},
   "outputs": [],
   "source": [
    "# Initialize data object with ground truths\n",
    "applicationGtPath = \"ground_truths/v_imen/pos/classes/posapplication.txt\"\n",
    "utilityGtPath = \"ground_truths/v_imen/pos/classes/posutility.txt\"\n",
    "entityGtPath = \"ground_truths/v_imen/pos/classes/posentity.txt\"\n",
    "\n",
    "entity=[]\n",
    "application=[]\n",
    "utility=[]\n",
    "data={}\n",
    "inp = open(applicationGtPath, \"r\")\n",
    "application = inp.read().splitlines()\n",
    "inp.close()\n",
    "for c in application:\n",
    "    data[c]=[\"application\"]\n",
    "inp = open(utilityGtPath, \"r\")\n",
    "utility = inp.read().splitlines()\n",
    "inp.close()\n",
    "for c in utility:\n",
    "    data[c]=[\"utility\"]\n",
    "inp = open(entityGtPath, \"r\")\n",
    "entity = inp.read().splitlines()\n",
    "inp.close()\n",
    "for c in entity:\n",
    "    data[c]=[\"entity\"]\n",
    "\n",
    "print(data)"
   ]
  },
  {
   "cell_type": "code",
   "execution_count": null,
   "metadata": {},
   "outputs": [],
   "source": [
    "# Loop through source code in path specified and add embeddings in data object\n",
    "path = './src_code/pos/src_code_formatted/'\n",
    "\n",
    "for elem in data:\n",
    "    n=0\n",
    "    allembadding=[]\n",
    "    with open(path+elem.lower()+'.java',encoding = \"ISO-8859-1\",errors=\"ignore\") as f:\n",
    "        print(elem)\n",
    "        lines=f.read()\n",
    "        code_tokenss = tokenizer.tokenize(lines)\n",
    "        while(len(code_tokenss)>(n)*510):\n",
    "            code_tokens=code_tokenss[(n)*510:(n+1)*510]\n",
    "            tokens = [tokenizer.cls_token] +  code_tokens + [tokenizer.sep_token]\n",
    "            tokens_ids = tokenizer.convert_tokens_to_ids(tokens)\n",
    "            context_embeddings = model(torch.tensor(tokens_ids)[None, :])[0]\n",
    "            embaddings= context_embeddings[0][0].tolist()\n",
    "            allembadding.append(embaddings)\n",
    "            n=n+1\n",
    "        npmatrix=np.matrix(allembadding)\n",
    "        meanmatrix=npmatrix.mean(0)\n",
    "        arr=np.array(meanmatrix[0]).flatten()\n",
    "        data[elem].append(arr.tolist())\n"
   ]
  },
  {
   "cell_type": "code",
   "execution_count": null,
   "metadata": {},
   "outputs": [],
   "source": [
    "# Write embeddings to csv file\n",
    "fileName = 'posEmbeddings.csv'\n",
    "with open(fileName, mode='w') as employee_file:\n",
    "    employee_writer = csv.writer(employee_file, delimiter=';', quotechar='\"', quoting=csv.QUOTE_MINIMAL)\n",
    "    for n in data:\n",
    "        employee_writer.writerow([n,data[n][0], data[n][1]])"
   ]
  },
  {
   "cell_type": "markdown",
   "metadata": {},
   "source": [
    "## 1.2 Train ML models"
   ]
  },
  {
   "cell_type": "code",
   "execution_count": null,
   "metadata": {},
   "outputs": [],
   "source": [
    "X=[]\n",
    "y=[]\n",
    "Xpos=[]\n",
    "ypos=[]\n",
    "namespos=[]\n",
    "names=[]\n",
    "\n",
    "fileName = 'posEmbeddings.csv'\n",
    "with open(fileName, newline='') as classEmbaddings:\n",
    "    reader = csv.reader(classEmbaddings, delimiter=';')\n",
    "    for row in reader:\n",
    "        X.append(ast.literal_eval(row[2]))\n",
    "        y.append(row[1])\n",
    "        names.append(row[0])\n",
    "\n",
    "X_train, X_test, y_trainnames, y_testnames = train_test_split(X, names, random_state = 0,test_size=0.7)\n",
    "y_train=[]\n",
    "y_test=[]\n",
    "for yt in y_trainnames:\n",
    "    y_train.append(y[names.index(yt)])\n",
    "for yt in y_testnames:\n",
    "    y_test.append(y[names.index(yt)])\n",
    "utilityyes=False\n",
    "for yitem in y_train:\n",
    "    if(yitem==\"utility\"):\n",
    "        utilityyes=True\n",
    "if not utilityyes:\n",
    "    for i,yitem in enumerate(y):\n",
    "        if(yitem==\"utility\"):\n",
    "            y_train.append(\"utility\")\n",
    "            X_train.append(X[i])\n",
    "            break"
   ]
  },
  {
   "cell_type": "markdown",
   "metadata": {},
   "source": [
    "## SVM"
   ]
  },
  {
   "cell_type": "code",
   "execution_count": null,
   "metadata": {},
   "outputs": [],
   "source": [
    "from sklearn.tree import DecisionTreeClassifier\n",
    "dtree_model = DecisionTreeClassifier(max_depth = 2).fit(X_train, y_train)\n",
    "dtree_predictions = dtree_model.predict(X_test)\n",
    "cm = confusion_matrix(y_test, dtree_predictions)\n",
    "\n",
    "from sklearn.metrics import accuracy_score\n",
    "score = accuracy_score(y_test, dtree_predictions)"
   ]
  },
  {
   "cell_type": "markdown",
   "metadata": {},
   "source": [
    "## SVC"
   ]
  },
  {
   "cell_type": "code",
   "execution_count": null,
   "metadata": {},
   "outputs": [],
   "source": [
    "from sklearn.svm import SVC\n",
    "svm_model_linear = SVC(kernel = 'linear', C = 2).fit(X_train, y_train)\n",
    "svm_predictions = svm_model_linear.predict(X_test)\n",
    "# model accuracy for X_test  \n",
    "accuracysvm = svm_model_linear.score(X_test, y_test)\n",
    "  \n",
    "# creating a confusion matrix\n",
    "cmsvm = confusion_matrix(y_test, svm_predictions)\n",
    "print(accuracysvm)\n",
    "print(cmsvm)\n",
    "print(classification_report(y_test, svm_predictions, target_names=['Class 1', 'Class 2', 'Class 3']))"
   ]
  },
  {
   "cell_type": "markdown",
   "metadata": {},
   "source": [
    "## KNN"
   ]
  },
  {
   "cell_type": "code",
   "execution_count": null,
   "metadata": {},
   "outputs": [],
   "source": [
    "# training a KNN classifier\n",
    "from sklearn.neighbors import KNeighborsClassifier\n",
    "knn = KNeighborsClassifier(n_neighbors = 5).fit(X_train, y_train)\n",
    "  \n",
    "# accuracy on X_test\n",
    "accuracyknn = knn.score(X_test, y_test)\n",
    "print (accuracyknn)\n",
    "  \n",
    "# creating a confusion matrix\n",
    "knn_predictions = knn.predict(X_test) \n",
    "cmknn = confusion_matrix(y_test, knn_predictions)\n",
    "print(cmknn)\n",
    "print(classification_report(y_test, knn_predictions, target_names=['Class 1', 'Class 2', 'Class 3']))"
   ]
  },
  {
   "cell_type": "markdown",
   "metadata": {},
   "source": [
    "## LogisticRegression"
   ]
  },
  {
   "cell_type": "code",
   "execution_count": null,
   "metadata": {},
   "outputs": [],
   "source": [
    "from sklearn.linear_model import LogisticRegression\n",
    "clf = LogisticRegression(random_state=0).fit(X_train, y_train)\n",
    "clf_predictions = clf.predict(X_test)\n",
    "cmclf = confusion_matrix(y_test, clf_predictions)\n",
    "# accuracy on X_test\n",
    "accuracycmclf = clf.score(X_test, y_test)\n",
    "print (accuracycmclf)\n",
    "print(cmclf)\n",
    "print(classification_report(y_test, clf_predictions, target_names=['Class 1', 'Class 2', 'Class 3']))"
   ]
  },
  {
   "cell_type": "markdown",
   "metadata": {},
   "source": [
    "## Gaussian NB"
   ]
  },
  {
   "cell_type": "code",
   "execution_count": null,
   "metadata": {},
   "outputs": [],
   "source": [
    "# training a Naive Bayes classifier\n",
    "from sklearn.naive_bayes import GaussianNB\n",
    "gnb = GaussianNB().fit(X_train, y_train)\n",
    "gnb_predictions = gnb.predict(X_test)\n",
    "  \n",
    "# accuracy on X_test\n",
    "gnb_accuracy = gnb.score(X_test, y_test)\n",
    "  \n",
    "# creating a confusion matrix\n",
    "gnb_cm = confusion_matrix(y_test, gnb_predictions)\n",
    "print(gnb_accuracy)\n",
    "print(gnb_cm)\n",
    "\n",
    "print(classification_report(y_test, gnb_predictions, target_names=['Class 1', 'Class 2', 'Class 3']))"
   ]
  }
 ],
 "metadata": {
  "kernelspec": {
   "display_name": "Python 3.11.3 64-bit",
   "language": "python",
   "name": "python3"
  },
  "language_info": {
   "codemirror_mode": {
    "name": "ipython",
    "version": 3
   },
   "file_extension": ".py",
   "mimetype": "text/x-python",
   "name": "python",
   "nbconvert_exporter": "python",
   "pygments_lexer": "ipython3",
   "version": "3.11.3"
  },
  "vscode": {
   "interpreter": {
    "hash": "b0fa6594d8f4cbf19f97940f81e996739fb7646882a419484c72d19e05852a7e"
   }
  }
 },
 "nbformat": 4,
 "nbformat_minor": 4
}
