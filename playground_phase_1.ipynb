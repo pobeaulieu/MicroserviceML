{
 "cells": [
  {
   "cell_type": "markdown",
   "metadata": {},
   "source": [
    "# Phase 1: Classification (assign Utility, Application, or Entity Tag)\n",
    "\n",
    "## 1.1 Create Embeddings"
   ]
  },
  {
   "cell_type": "code",
   "execution_count": 1,
   "metadata": {},
   "outputs": [],
   "source": [
    "version = \"v_imen\" # TODO changer\n",
    "system = \"pos\" # TODO changer\n",
    "model_type = \"codebert\" # or ft_codebert"
   ]
  },
  {
   "cell_type": "code",
   "execution_count": 77,
   "metadata": {},
   "outputs": [],
   "source": [
    "from transformers import AutoTokenizer, AutoModel\n",
    "import torch\n",
    "import csv\n",
    "from sklearn.metrics import confusion_matrix, classification_report\n",
    "from sklearn.model_selection import train_test_split\n",
    "import numpy as np\n",
    "import torch\n",
    "import os\n",
    "from utils import load_class_code_from_directory, generate_embeddings_for_java_file, load_data_from_csv"
   ]
  },
  {
   "cell_type": "code",
   "execution_count": 3,
   "metadata": {},
   "outputs": [],
   "source": [
    "# Check if CUDA (GPU) is available and if so, set the device to GPU\n",
    "if torch.cuda.is_available():  \n",
    "  dev = \"cuda:0\" \n",
    "else:  \n",
    "  dev = \"cpu\"  \n",
    "\n",
    "device = torch.device(dev)"
   ]
  },
  {
   "cell_type": "code",
   "execution_count": 4,
   "metadata": {},
   "outputs": [],
   "source": [
    "# Select the model and tokenizer\n",
    "if (model_type == \"codebert\"):\n",
    "    tokenizer = AutoTokenizer.from_pretrained(\"microsoft/codebert-base\",force_download=False)\n",
    "    model = AutoModel.from_pretrained(\"microsoft/codebert-base\",force_download=False)\n",
    "elif (model_type == \"ft_codebert\"):\n",
    "    tokenizer = AutoTokenizer.from_pretrained(\"./codebert_finetuned\",force_download=False)\n",
    "    model = AutoModel.from_pretrained(\"./codebert_finetuned\",force_download=False)\n",
    "else:\n",
    "    raise NameError(\"model type not supported\")\n",
    "\n",
    "# Move the model to the GPU if available\n",
    "model = model.to(device)"
   ]
  },
  {
   "cell_type": "code",
   "execution_count": 5,
   "metadata": {},
   "outputs": [
    {
     "name": "stdout",
     "output_type": "stream",
     "text": [
      "{'com.rafsan.inventory.MainApp': 0, 'com.rafsan.inventory.controller.admin.AdminController': 0, 'com.rafsan.inventory.interfaces.CategoryInterface': 0, 'com.rafsan.inventory.controller.category.AddController': 0, 'com.rafsan.inventory.controller.category.CategoryController': 0, 'com.rafsan.inventory.controller.category.EditController': 0, 'com.rafsan.inventory.interfaces.EmployeeInterface': 0, 'com.rafsan.inventory.controller.employee.AddController': 0, 'com.rafsan.inventory.controller.employee.EditController': 0, 'com.rafsan.inventory.controller.employee.EmployeeController': 0, 'com.rafsan.inventory.interfaces.ProductInterface': 0, 'com.rafsan.inventory.controller.product.AddController': 0, 'com.rafsan.inventory.controller.product.EditController': 0, 'com.rafsan.inventory.controller.product.ProductController': 0, 'com.rafsan.inventory.interfaces.PurchaseInterface': 0, 'com.rafsan.inventory.controller.purchase.AddController': 0, 'com.rafsan.inventory.controller.purchase.PurchaseController': 0, 'com.rafsan.inventory.interfaces.ReportInterface': 0, 'com.rafsan.inventory.controller.report.ReportController': 0, 'com.rafsan.inventory.controller.report.ViewController': 0, 'com.rafsan.inventory.interfaces.SupplierInterface': 0, 'com.rafsan.inventory.controller.supplier.AddController': 0, 'com.rafsan.inventory.controller.supplier.EditController': 0, 'com.rafsan.inventory.controller.supplier.SupplierController': 0, 'com.rafsan.inventory.interfaces.SaleInterface': 0, 'com.rafsan.inventory.controller.sales.SalesController': 0, 'com.rafsan.inventory.controller.pos.ConfirmController': 0, 'com.rafsan.inventory.controller.pos.InvoiceController': 0, 'com.rafsan.inventory.controller.pos.PosController': 0, 'com.rafsan.inventory.HibernateUtil': 1, 'com.rafsan.inventory.pdf.PrintInvoice': 1, 'com.rafsan.inventory.controller.login.LoginController': 1, 'com.rafsan.inventory.entity.Category': 2, 'com.rafsan.inventory.model.CategoryModel': 2, 'com.rafsan.inventory.dao.CategoryDao': 2, 'com.rafsan.inventory.entity.Employee': 2, 'com.rafsan.inventory.model.EmployeeModel': 2, 'com.rafsan.inventory.dao.EmployeeDao': 2, 'com.rafsan.inventory.entity.Invoice': 2, 'com.rafsan.inventory.model.InvoiceModel': 2, 'com.rafsan.inventory.dao.InvoiceDao': 2, 'com.rafsan.inventory.entity.Item': 2, 'com.rafsan.inventory.entity.Payment': 2, 'com.rafsan.inventory.entity.Product': 2, 'com.rafsan.inventory.model.ProductModel': 2, 'com.rafsan.inventory.dao.ProductDao': 2, 'com.rafsan.inventory.entity.Purchase': 2, 'com.rafsan.inventory.model.PurchaseModel': 2, 'com.rafsan.inventory.dao.PurchaseDao': 2, 'com.rafsan.inventory.entity.Sale': 2, 'com.rafsan.inventory.model.SalesModel': 2, 'com.rafsan.inventory.dao.SaleDao': 2, 'com.rafsan.inventory.entity.Supplier': 2, 'com.rafsan.inventory.model.SupplierModel': 2, 'com.rafsan.inventory.dao.SupplierDao': 2}\n"
     ]
    }
   ],
   "source": [
    "# Labels are 0: Application, 1: Utility, 2: Entity\n",
    "\n",
    "# Get the manually typed classes\n",
    "def process_file(filepath, label):\n",
    "    with open(filepath, 'r') as f:\n",
    "        for line in f:\n",
    "            class_labels[line.strip()] = label\n",
    "\n",
    "class_labels = {}\n",
    "process_file(\"ground_truths/\" + version + \"/\" + system + \"/classes/application.txt\", 0)\n",
    "process_file(\"ground_truths/\" + version + \"/\" + system + \"/classes/utility.txt\", 1)\n",
    "process_file(\"ground_truths/\" + version + \"/\" + system + \"/classes/entity.txt\", 2)\n",
    "\n",
    "print(class_labels)"
   ]
  },
  {
   "cell_type": "code",
   "execution_count": 7,
   "metadata": {},
   "outputs": [
    {
     "name": "stderr",
     "output_type": "stream",
     "text": [
      "Token indices sequence length is longer than the specified maximum sequence length for this model (2701 > 512). Running this sequence through the model will result in indexing errors\n"
     ]
    }
   ],
   "source": [
    "# For each class in class_code, generate embeddings and add to class_embeddings dictionary\n",
    "class_embeddings = {}\n",
    "class_code = load_class_code_from_directory(system)\n",
    "for class_name, code in class_code.items():\n",
    "    class_embeddings[class_name] = generate_embeddings_for_java_file(code, model, tokenizer)"
   ]
  },
  {
   "cell_type": "code",
   "execution_count": 23,
   "metadata": {},
   "outputs": [],
   "source": [
    "# Write embeddings to csv file\n",
    "with open(version + '_' + system + '_' + model_type + '_' + 'embeddings.csv', 'w') as f:\n",
    "    writer = csv.writer(f, delimiter=';', quotechar='\"', quoting=csv.QUOTE_MINIMAL, lineterminator='\\n')\n",
    "\n",
    "    # Match class_labels with class_embeddings based on key (class name) and write together to csv ex. class_name;label;embedding\n",
    "    # if key in class_embeddings but not in class_labels, put -1 for label\n",
    "    for key, embedding in class_embeddings.items():\n",
    "        # Convert numpy array to comma-separated string\n",
    "        embedding_str = ','.join(map(str, embedding))\n",
    "        writer.writerow([key, class_labels.get(key, -1), embedding_str])"
   ]
  },
  {
   "cell_type": "markdown",
   "metadata": {},
   "source": [
    "## 1.2 Train ML models"
   ]
  },
  {
   "cell_type": "code",
   "execution_count": 30,
   "metadata": {},
   "outputs": [
    {
     "name": "stdout",
     "output_type": "stream",
     "text": [
      "[[-0.18812622 -0.07322095 -0.04142916 ... -0.12509549 -0.6195657\n",
      "   0.5668942 ]\n",
      " [-0.18266301 -0.02652007 -0.01852127 ... -0.1292542  -0.59713876\n",
      "   0.54415834]\n",
      " [-0.18029451  0.13444571  0.01210325 ... -0.23672481 -0.49645227\n",
      "   0.4131651 ]\n",
      " ...\n",
      " [-0.18025655 -0.03189673 -0.04783064 ... -0.14247401 -0.59984833\n",
      "   0.55347806]\n",
      " [-0.24345882 -0.04653927 -0.02923113 ... -0.13501357 -0.6327489\n",
      "   0.47451097]\n",
      " [-0.20725228  0.25259238 -0.01621119 ... -0.21184425 -0.46678564\n",
      "   0.45599747]]\n",
      "17\n"
     ]
    }
   ],
   "source": [
    "filename = f\"{version}_{system}_{model_type}_embeddings.csv\"\n",
    "class_names, labels, embeddings = load_data_from_csv(filename)\n",
    "\n",
    "Xtrain, Xtest, names_train, names_test = train_test_split(embeddings, class_names, test_size=0.3, random_state=0)\n",
    "\n",
    "ytrain = [labels[class_names.index(name)] for name in names_train]\n",
    "ytest = [labels[class_names.index(name)] for name in names_test]\n",
    "\n",
    "Xtrain = np.array(Xtrain)\n",
    "Xtest = np.array(Xtest)\n",
    "\n",
    "# Ensure that there's at least one instance of the \"Utility\" label in the training data\n",
    "if 1 not in ytrain:\n",
    "    utility_index = labels.index(1)\n",
    "    Xtrain = np.append(Xtrain, [embeddings[utility_index]], axis=0)\n",
    "    ytrain.append(1)\n",
    "\n",
    "print(Xtrain)\n",
    "print(len(Xtest))"
   ]
  },
  {
   "cell_type": "code",
   "execution_count": 34,
   "metadata": {},
   "outputs": [],
   "source": [
    "from sklearn.tree import DecisionTreeClassifier\n",
    "from sklearn.svm import SVC\n",
    "from sklearn.neighbors import KNeighborsClassifier\n",
    "from sklearn.linear_model import LogisticRegression\n",
    "from sklearn.naive_bayes import GaussianNB\n",
    "from sklearn.metrics import confusion_matrix, accuracy_score, classification_report"
   ]
  },
  {
   "cell_type": "code",
   "execution_count": 51,
   "metadata": {},
   "outputs": [],
   "source": [
    "def generate_classification_report(y_true, y_pred):\n",
    "    # Identify unique labels in both true labels and predictions\n",
    "    unique_labels = np.unique(np.concatenate((y_true, y_pred)))\n",
    "\n",
    "    # Map unique labels to their corresponding names\n",
    "    label_names_map = {-1: \"None\", 0: \"Application\", 1: \"Utility\", 2: \"Entity\"}\n",
    "    dynamic_label_names = [label_names_map[label] for label in unique_labels]\n",
    "\n",
    "    # Generate and print the classification report\n",
    "    print(classification_report(y_true, y_pred, target_names=dynamic_label_names))"
   ]
  },
  {
   "cell_type": "markdown",
   "metadata": {},
   "source": [
    "## Decision Tree"
   ]
  },
  {
   "cell_type": "code",
   "execution_count": 52,
   "metadata": {},
   "outputs": [
    {
     "name": "stdout",
     "output_type": "stream",
     "text": [
      "1.0\n",
      "[[8 0]\n",
      " [0 9]]\n",
      "              precision    recall  f1-score   support\n",
      "\n",
      " Application       1.00      1.00      1.00         8\n",
      "      Entity       1.00      1.00      1.00         9\n",
      "\n",
      "    accuracy                           1.00        17\n",
      "   macro avg       1.00      1.00      1.00        17\n",
      "weighted avg       1.00      1.00      1.00        17\n",
      "\n"
     ]
    }
   ],
   "source": [
    "decision_tree_classifier = DecisionTreeClassifier(max_depth=2).fit(Xtrain, ytrain)\n",
    "decision_tree_predictions = decision_tree_classifier.predict(Xtest)\n",
    "decision_tree_accuracy = accuracy_score(ytest, decision_tree_predictions)\n",
    "decision_tree_confusion_matrix = confusion_matrix(ytest, decision_tree_predictions)\n",
    "print(decision_tree_accuracy)\n",
    "print(decision_tree_confusion_matrix)\n",
    "generate_classification_report(ytest, decision_tree_predictions)"
   ]
  },
  {
   "cell_type": "markdown",
   "metadata": {},
   "source": [
    "## SVM"
   ]
  },
  {
   "cell_type": "code",
   "execution_count": 53,
   "metadata": {},
   "outputs": [
    {
     "name": "stdout",
     "output_type": "stream",
     "text": [
      "0.9411764705882353\n",
      "[[7 1 0]\n",
      " [0 0 0]\n",
      " [0 0 9]]\n",
      "              precision    recall  f1-score   support\n",
      "\n",
      " Application       1.00      0.88      0.93         8\n",
      "     Utility       0.00      0.00      0.00         0\n",
      "      Entity       1.00      1.00      1.00         9\n",
      "\n",
      "    accuracy                           0.94        17\n",
      "   macro avg       0.67      0.62      0.64        17\n",
      "weighted avg       1.00      0.94      0.97        17\n",
      "\n"
     ]
    },
    {
     "name": "stderr",
     "output_type": "stream",
     "text": [
      "c:\\Users\\bianc\\anaconda3\\envs\\sys800\\Lib\\site-packages\\sklearn\\metrics\\_classification.py:1469: UndefinedMetricWarning: Recall and F-score are ill-defined and being set to 0.0 in labels with no true samples. Use `zero_division` parameter to control this behavior.\n",
      "  _warn_prf(average, modifier, msg_start, len(result))\n",
      "c:\\Users\\bianc\\anaconda3\\envs\\sys800\\Lib\\site-packages\\sklearn\\metrics\\_classification.py:1469: UndefinedMetricWarning: Recall and F-score are ill-defined and being set to 0.0 in labels with no true samples. Use `zero_division` parameter to control this behavior.\n",
      "  _warn_prf(average, modifier, msg_start, len(result))\n",
      "c:\\Users\\bianc\\anaconda3\\envs\\sys800\\Lib\\site-packages\\sklearn\\metrics\\_classification.py:1469: UndefinedMetricWarning: Recall and F-score are ill-defined and being set to 0.0 in labels with no true samples. Use `zero_division` parameter to control this behavior.\n",
      "  _warn_prf(average, modifier, msg_start, len(result))\n"
     ]
    }
   ],
   "source": [
    "svm_classifier = SVC(kernel='linear', C=2).fit(Xtrain, ytrain)\n",
    "svm_predictions = svm_classifier.predict(Xtest)\n",
    "svm_accuracy = accuracy_score(ytest, svm_predictions)\n",
    "svm_confusion_matrix = confusion_matrix(ytest, svm_predictions)\n",
    "print(svm_accuracy)\n",
    "print(svm_confusion_matrix)\n",
    "generate_classification_report(ytest, svm_predictions)"
   ]
  },
  {
   "cell_type": "markdown",
   "metadata": {},
   "source": [
    "## KNN"
   ]
  },
  {
   "cell_type": "code",
   "execution_count": 54,
   "metadata": {},
   "outputs": [
    {
     "name": "stdout",
     "output_type": "stream",
     "text": [
      "0.8235294117647058\n",
      "[[8 0]\n",
      " [3 6]]\n",
      "              precision    recall  f1-score   support\n",
      "\n",
      " Application       0.73      1.00      0.84         8\n",
      "      Entity       1.00      0.67      0.80         9\n",
      "\n",
      "    accuracy                           0.82        17\n",
      "   macro avg       0.86      0.83      0.82        17\n",
      "weighted avg       0.87      0.82      0.82        17\n",
      "\n"
     ]
    }
   ],
   "source": [
    "knn_classifier = KNeighborsClassifier(n_neighbors=5).fit(Xtrain, ytrain)\n",
    "knn_predictions = knn_classifier.predict(Xtest)\n",
    "knn_accuracy = accuracy_score(ytest, knn_predictions)\n",
    "knn_confusion_matrix = confusion_matrix(ytest, knn_predictions)\n",
    "print(knn_accuracy)\n",
    "print(knn_confusion_matrix)\n",
    "generate_classification_report(ytest, knn_predictions)"
   ]
  },
  {
   "cell_type": "markdown",
   "metadata": {},
   "source": [
    "## LogisticRegression"
   ]
  },
  {
   "cell_type": "code",
   "execution_count": 55,
   "metadata": {},
   "outputs": [
    {
     "name": "stdout",
     "output_type": "stream",
     "text": [
      "1.0\n",
      "[[8 0]\n",
      " [0 9]]\n",
      "              precision    recall  f1-score   support\n",
      "\n",
      " Application       1.00      1.00      1.00         8\n",
      "      Entity       1.00      1.00      1.00         9\n",
      "\n",
      "    accuracy                           1.00        17\n",
      "   macro avg       1.00      1.00      1.00        17\n",
      "weighted avg       1.00      1.00      1.00        17\n",
      "\n"
     ]
    },
    {
     "name": "stderr",
     "output_type": "stream",
     "text": [
      "c:\\Users\\bianc\\anaconda3\\envs\\sys800\\Lib\\site-packages\\sklearn\\linear_model\\_logistic.py:460: ConvergenceWarning: lbfgs failed to converge (status=1):\n",
      "STOP: TOTAL NO. of ITERATIONS REACHED LIMIT.\n",
      "\n",
      "Increase the number of iterations (max_iter) or scale the data as shown in:\n",
      "    https://scikit-learn.org/stable/modules/preprocessing.html\n",
      "Please also refer to the documentation for alternative solver options:\n",
      "    https://scikit-learn.org/stable/modules/linear_model.html#logistic-regression\n",
      "  n_iter_i = _check_optimize_result(\n"
     ]
    }
   ],
   "source": [
    "logistic_regression_classifier = LogisticRegression(random_state=0).fit(Xtrain, ytrain)\n",
    "logistic_regression_predictions = logistic_regression_classifier.predict(Xtest)\n",
    "logistic_regression_accuracy = accuracy_score(ytest, logistic_regression_predictions)\n",
    "logistic_regression_confusion_matrix = confusion_matrix(ytest, logistic_regression_predictions)\n",
    "print(logistic_regression_accuracy)\n",
    "print(logistic_regression_confusion_matrix)\n",
    "generate_classification_report(ytest, logistic_regression_predictions)"
   ]
  },
  {
   "cell_type": "markdown",
   "metadata": {},
   "source": [
    "## Gaussian NB"
   ]
  },
  {
   "cell_type": "code",
   "execution_count": 56,
   "metadata": {},
   "outputs": [
    {
     "name": "stdout",
     "output_type": "stream",
     "text": [
      "1.0\n",
      "[[8 0]\n",
      " [0 9]]\n",
      "              precision    recall  f1-score   support\n",
      "\n",
      " Application       1.00      1.00      1.00         8\n",
      "      Entity       1.00      1.00      1.00         9\n",
      "\n",
      "    accuracy                           1.00        17\n",
      "   macro avg       1.00      1.00      1.00        17\n",
      "weighted avg       1.00      1.00      1.00        17\n",
      "\n"
     ]
    }
   ],
   "source": [
    "naive_bayes_classifier = GaussianNB().fit(Xtrain, ytrain)\n",
    "naive_bayes_predictions = naive_bayes_classifier.predict(Xtest)\n",
    "naive_bayes_accuracy = accuracy_score(ytest, naive_bayes_predictions)\n",
    "naive_bayes_confusion_matrix = confusion_matrix(ytest, naive_bayes_predictions)\n",
    "print(naive_bayes_accuracy)\n",
    "print(naive_bayes_confusion_matrix)\n",
    "generate_classification_report(ytest, naive_bayes_predictions)"
   ]
  }
 ],
 "metadata": {
  "kernelspec": {
   "display_name": "Python 3.11.3 64-bit",
   "language": "python",
   "name": "python3"
  },
  "language_info": {
   "codemirror_mode": {
    "name": "ipython",
    "version": 3
   },
   "file_extension": ".py",
   "mimetype": "text/x-python",
   "name": "python",
   "nbconvert_exporter": "python",
   "pygments_lexer": "ipython3",
   "version": "3.11.5"
  },
  "vscode": {
   "interpreter": {
    "hash": "b0fa6594d8f4cbf19f97940f81e996739fb7646882a419484c72d19e05852a7e"
   }
  }
 },
 "nbformat": 4,
 "nbformat_minor": 4
}
