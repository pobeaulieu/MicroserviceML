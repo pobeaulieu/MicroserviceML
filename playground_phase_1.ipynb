{
 "cells": [
  {
   "cell_type": "markdown",
   "metadata": {},
   "source": [
    "# Phase 1: Classification (assign Utility, Application, or Entity Tag)\n",
    "\n",
    "## 1.1 Create Embeddings"
   ]
  },
  {
   "cell_type": "code",
   "execution_count": 1,
   "metadata": {},
   "outputs": [],
   "source": [
    "version = \"v_team\" # TODO changer\n",
    "system = \"jforum\" # TODO changer\n",
    "model_type = \"codebert\" # or ft_codebert"
   ]
  },
  {
   "cell_type": "code",
   "execution_count": 2,
   "metadata": {},
   "outputs": [
    {
     "name": "stderr",
     "output_type": "stream",
     "text": [
      "c:\\Users\\bianc\\anaconda3\\envs\\sys800\\Lib\\site-packages\\tqdm\\auto.py:21: TqdmWarning: IProgress not found. Please update jupyter and ipywidgets. See https://ipywidgets.readthedocs.io/en/stable/user_install.html\n",
      "  from .autonotebook import tqdm as notebook_tqdm\n"
     ]
    }
   ],
   "source": [
    "from transformers import AutoTokenizer, AutoModel\n",
    "import torch\n",
    "from sklearn.metrics import confusion_matrix, classification_report\n",
    "from sklearn.model_selection import train_test_split\n",
    "import numpy as np\n",
    "import torch\n",
    "from utils import load_class_code_from_directory, load_data_from_csv, save_embeddings_to_csv\n",
    "from generate_embeddings import generate_embeddings_for_java_file"
   ]
  },
  {
   "cell_type": "code",
   "execution_count": 3,
   "metadata": {},
   "outputs": [],
   "source": [
    "# Check if CUDA (GPU) is available and if so, set the device to GPU\n",
    "if torch.cuda.is_available():  \n",
    "  dev = \"cuda:0\" \n",
    "else:  \n",
    "  dev = \"cpu\"  \n",
    "\n",
    "device = torch.device(dev)"
   ]
  },
  {
   "cell_type": "code",
   "execution_count": 4,
   "metadata": {},
   "outputs": [],
   "source": [
    "# Select the model and tokenizer\n",
    "if (model_type == \"codebert\"):\n",
    "    tokenizer = AutoTokenizer.from_pretrained(\"microsoft/codebert-base\",force_download=False)\n",
    "    model = AutoModel.from_pretrained(\"microsoft/codebert-base\",force_download=False)\n",
    "elif (model_type == \"ft_codebert\"):\n",
    "    tokenizer = AutoTokenizer.from_pretrained(\"./codebert_finetuned\",force_download=False)\n",
    "    model = AutoModel.from_pretrained(\"./codebert_finetuned\",force_download=False)\n",
    "else:\n",
    "    raise NameError(\"model type not supported\")\n",
    "\n",
    "# Move the model to the GPU if available\n",
    "model = model.to(device)"
   ]
  },
  {
   "cell_type": "code",
   "execution_count": 5,
   "metadata": {},
   "outputs": [
    {
     "name": "stdout",
     "output_type": "stream",
     "text": [
      "{'net.jforum.actions.extensions.TopicWatchExtension': 0, 'net.jforum.actions.interceptors.ControllerSecurityInterceptor': 0, 'net.jforum.actions.interceptors.ExtendsAnnotationInterceptor': 0, 'net.jforum.actions.interceptors.MethodSecurityInterceptor': 0, 'net.jforum.actions.interceptors.SecurityInterceptor': 0, 'net.jforum.actions.interceptors.SessionManagerInterceptor': 0, 'net.jforum.api.JForumExecutionContext': 0, 'net.jforum.controllers.AvatarAdminController': 0, 'net.jforum.controllers.BadWordAdminController': 0, 'net.jforum.controllers.BanlistAdminController': 0, 'net.jforum.controllers.CategoryAdminController': 0, 'net.jforum.controllers.ConfigController': 0, 'net.jforum.controllers.ForumAdminController': 0, 'net.jforum.controllers.ForumController': 0, 'net.jforum.controllers.GroupAdminController': 0, 'net.jforum.controllers.HibernateStatisticsController': 0, 'net.jforum.controllers.LuceneAdminController': 0, 'net.jforum.controllers.MessageController': 0, 'net.jforum.controllers.ModerationController': 0, 'net.jforum.controllers.PostController': 0, 'net.jforum.controllers.PostReportController': 0, 'net.jforum.controllers.PrivateMessageController': 0, 'net.jforum.controllers.RSSController': 0, 'net.jforum.controllers.RankingAdminController': 0, 'net.jforum.controllers.RecentTopicsController': 0, 'net.jforum.controllers.SearchController': 0, 'net.jforum.controllers.SmilieAdminController': 0, 'net.jforum.controllers.ThemeController': 0, 'net.jforum.controllers.TopicController': 0, 'net.jforum.core.events.post.BadWordEvent': 0, 'net.jforum.core.events.post.ForumPostEvent': 0, 'net.jforum.core.events.post.TopicPostEvent': 0, 'net.jforum.core.events.post.TopicReplyEvent': 0, 'net.jforum.core.events.post.TopicWatchPostEvent': 0, 'net.jforum.core.events.topic.ForumTopicEvent': 0, 'net.jforum.core.events.topic.TopicWatchTopicEvent': 0, 'net.jforum.core.support.hibernate.CacheEvictionRules': 0, 'net.jforum.core.support.hibernate.SessionFactoryCreator': 0, 'net.jforum.core.support.hibernate.SpringInterceptor': 0, 'net.jforum.core.support.hibernate.SpringSessionFactory': 0, 'net.jforum.core.SessionManager': 0, 'net.jforum.core.UserSessionListener': 0, 'net.jforum.core.VRaptorCustomPathResolver': 0, 'net.jforum.core.VRaptorSpringProvider': 0, 'net.jforum.events.listeners.AbstractListener': 0, 'net.jforum.events.listeners.CategoryEventListener': 0, 'net.jforum.events.listeners.ForumEventListener': 0, 'net.jforum.events.listeners.PostEventListener': 0, 'net.jforum.events.listeners.TopicEventListener': 0, 'net.jforum.events.EmptyCategoryEvent': 0, 'net.jforum.events.EmptyForumEvent': 0, 'net.jforum.events.EmptyPostEvent': 0, 'net.jforum.events.EmptyTopicEvent': 0, 'net.jforum.events.Event': 0, 'net.jforum.extensions.ActionExtension': 0, 'net.jforum.extensions.ActionExtensionManager': 0, 'net.jforum.extensions.Extends': 0, 'net.jforum.extensions.PostReportCounterOperation': 0, 'net.jforum.extensions.RequestOperation': 0, 'net.jforum.extensions.RequestOperationChain': 0, 'net.jforum.plugins.post.ForumAdminExtension': 0, 'net.jforum.plugins.post.PostEditInterceptor': 0, 'net.jforum.security.AccessForumRule': 0, 'net.jforum.security.AccessRule': 0, 'net.jforum.security.AdministrationRule': 0, 'net.jforum.security.AuthenticatedRule': 0, 'net.jforum.security.ChangePostRule': 0, 'net.jforum.security.CreateNewTopicRule': 0, 'net.jforum.security.DownloadAttachmentRule': 0, 'net.jforum.security.EditUserRule': 0, 'net.jforum.security.EmptyRule': 0, 'net.jforum.security.ModerationRule': 0, 'net.jforum.security.PrivateMessageEnabledRule': 0, 'net.jforum.security.PrivateMessageOwnerRule': 0, 'net.jforum.security.ReplyTopicRule': 0, 'net.jforum.security.RoleManager': 0, 'net.jforum.security.TopicFilter': 0, 'net.jforum.services.AttachmentService': 0, 'net.jforum.services.AvatarService': 0, 'net.jforum.services.CategoryService': 0, 'net.jforum.services.ConfigService': 0, 'net.jforum.services.ForumService': 0, 'net.jforum.services.GroupService': 0, 'net.jforum.services.LostPasswordService': 0, 'net.jforum.services.MessageFormatService': 0, 'net.jforum.services.ModerationLogService': 0, 'net.jforum.services.ModerationService': 0, 'net.jforum.services.MostUsersEverOnlineService': 0, 'net.jforum.services.PollService': 0, 'net.jforum.services.PostService': 0, 'net.jforum.services.PrivateMessageService': 0, 'net.jforum.services.RSSService': 0, 'net.jforum.services.RankingService': 0, 'net.jforum.services.SmilieService': 0, 'net.jforum.services.TopicService': 0, 'net.jforum.services.TopicWatchService': 0, 'net.jforum.services.UserService': 0, '': 0, 'net.jforum.actions.helpers.ActionUtils': 1, 'net.jforum.actions.helpers.Actions': 1, 'net.jforum.actions.helpers.ApproveInfo': 1, 'net.jforum.actions.helpers.AttachedFile': 1, 'net.jforum.actions.helpers.Domain': 1, 'net.jforum.actions.helpers.PostFormOptions': 1, 'net.jforum.controllers.UserAdminController': 1, 'net.jforum.controllers.UserController': 1, 'net.jforum.controllers.AdminController': 1, 'net.jforum.core.events.category.NewCategoryGroupPermissionsEvent': 1, 'net.jforum.core.events.forum.NewForumGroupPermissionsEvent': 1, 'net.jforum.core.exceptions.AccessRuleException': 1, 'net.jforum.core.exceptions.DatabaseException': 1, 'net.jforum.core.exceptions.ForumException': 1, 'net.jforum.core.exceptions.MailException': 1, 'net.jforum.core.exceptions.ValidationException': 1, 'net.jforum.core.support.hibernate.QueryCache': 1, 'net.jforum.core.support.hibernate.QueryCacheFactory': 1, 'net.jforum.core.support.spring.HttpServletRequestFactoryBean': 1, 'net.jforum.core.support.spring.HttpServletResponseFactoryBean': 1, 'net.jforum.core.support.spring.RoleManagerFactoryBean': 1, 'net.jforum.core.tags.DisplayCategoriesTag': 1, 'net.jforum.core.tags.DisplayFormattedMessageTag': 1, 'net.jforum.core.tags.DisplayForumsTag': 1, 'net.jforum.core.tags.FormatSignatureTag': 1, 'net.jforum.core.tags.Functions': 1, 'net.jforum.core.tags.I18nTag': 1, 'net.jforum.core.tags.ImportFileTag': 1, 'net.jforum.core.tags.ImportResponseWrapper': 1, 'net.jforum.core.tags.JForumTag': 1, 'net.jforum.core.tags.SettingsTag': 1, 'net.jforum.core.tags.TemplateResourceTag': 1, 'net.jforum.core.tags.URLTag': 1, 'net.jforum.core.PageExtensionRedirectFilter': 1, 'net.jforum.core.Role': 1, 'net.jforum.core.SecurityConstraint': 1, 'net.jforum.core.UrlPattern': 1, 'net.jforum.formatters.BBCode': 1, 'net.jforum.formatters.BBConfigFormatter': 1, 'net.jforum.formatters.Formatter': 1, 'net.jforum.formatters.HtmlEntitiesFormatter': 1, 'net.jforum.formatters.NewLineToHtmlBreakFormatter': 1, 'net.jforum.formatters.PostFormatters': 1, 'net.jforum.formatters.PostOptions': 1, 'net.jforum.formatters.SafeHtmlAttributesFormatter': 1, 'net.jforum.formatters.SafeHtmlTagsFormatter': 1, 'net.jforum.formatters.SmiliesFormatter': 1, 'net.jforum.sso.DefaultLoginAuthenticator': 1, 'net.jforum.sso.LoginAuthenticator': 1, 'net.jforum.sso.RemoteUserSSO': 1, 'net.jforum.sso.SSO': 1, 'net.jforum.sso.SSOUtils': 1, 'net.jforum.util.CategoryOrderComparator': 1, 'net.jforum.util.ConfigKeys': 1, 'net.jforum.util.GroupInteractionFilter': 1, 'net.jforum.util.I18n': 1, 'net.jforum.util.ImageInfo': 1, 'net.jforum.util.ImageUtils': 1, 'net.jforum.util.JForumConfig': 1, 'net.jforum.util.MD5': 1, 'net.jforum.util.SafeHtml': 1, 'net.jforum.util.SecurityConstants': 1, 'net.jforum.util.URLBuilder': 1, 'net.jforum.util.UploadUtils': 1, 'net.jforum.util.mail.ActivationKeySpammer': 1, 'net.jforum.util.mail.EmailSenderTask': 1, 'net.jforum.util.mail.IdentifiableMimeMessage': 1, 'net.jforum.util.mail.LostPasswordSpammer': 1, 'net.jforum.util.mail.MessageId': 1, 'net.jforum.util.mail.PrivateMessageSpammer': 1, 'net.jforum.util.mail.Spammer': 1, 'net.jforum.util.mail.SpammerFactory': 1, 'net.jforum.util.mail.SpammerTaskExecutor': 1, 'net.jforum.util.mail.TopicReplySpammer': 1, 'net.jforum.entities.util.PaginatedResult': 2, 'net.jforum.entities.util.Pagination': 2, 'net.jforum.entities.util.SearchMatchType': 2, 'net.jforum.entities.util.SearchParams': 2, 'net.jforum.entities.util.SearchResult': 2, 'net.jforum.entities.util.SearchSort': 2, 'net.jforum.entities.util.SearchSortType': 2, 'net.jforum.entities.Attachment': 2, 'net.jforum.entities.AttachmentExtension': 2, 'net.jforum.entities.AttachmentExtensionGroup': 2, 'net.jforum.entities.AttachmentQuota': 2, 'net.jforum.entities.Avatar': 2, 'net.jforum.entities.AvatarType': 2, 'net.jforum.entities.BadWord': 2, 'net.jforum.entities.Banlist': 2, 'net.jforum.entities.Category': 2, 'net.jforum.entities.Config': 2, 'net.jforum.entities.Forum': 2, 'net.jforum.entities.ForumStats': 2, 'net.jforum.entities.ForumWatch': 2, 'net.jforum.entities.Group': 2, 'net.jforum.entities.ModerationLog': 2, 'net.jforum.entities.ModerationLogType': 2, 'net.jforum.entities.MostUsersEverOnline': 2, 'net.jforum.entities.Poll': 2, 'net.jforum.entities.PollOption': 2, 'net.jforum.entities.PollVoter': 2, 'net.jforum.entities.Post': 2, 'net.jforum.entities.PostReport': 2, 'net.jforum.entities.PostReportStatus': 2, 'net.jforum.entities.PrivateMessage': 2, 'net.jforum.entities.PrivateMessageType': 2, 'net.jforum.entities.Ranking': 2, 'net.jforum.entities.Role': 2, 'net.jforum.entities.Session': 2, 'net.jforum.entities.Smilie': 2, 'net.jforum.entities.Theme': 2, 'net.jforum.entities.Topic': 2, 'net.jforum.entities.TopicWatch': 2, 'net.jforum.entities.User': 2, 'net.jforum.entities.UserSession': 2, 'net.jforum.plugins.post.ForumLimitedTime': 2, 'net.jforum.plugins.post.ForumLimitedTimeRepository': 2, 'net.jforum.repository.AvatarRepository': 2, 'net.jforum.repository.BadWordRepository': 2, 'net.jforum.repository.BanlistRepository': 2, 'net.jforum.repository.CategoryRepository': 2, 'net.jforum.repository.ConfigRepository': 2, 'net.jforum.repository.ForumRepository': 2, 'net.jforum.repository.GroupRepository': 2, 'net.jforum.repository.HibernateGenericDAO': 2, 'net.jforum.repository.ModerationLogRepository': 2, 'net.jforum.repository.PollRepository': 2, 'net.jforum.repository.PostReportRepository': 2, 'net.jforum.repository.PostRepository': 2, 'net.jforum.repository.PrivateMessageRepository': 2, 'net.jforum.repository.RSSRepository': 2, 'net.jforum.repository.RankingRepository': 2, 'net.jforum.repository.RecentTopicsRepository': 2, 'net.jforum.repository.Repository': 2, 'net.jforum.repository.SearchRepository': 2, 'net.jforum.repository.SessionRepository': 2, 'net.jforum.repository.SmilieRepository': 2, 'net.jforum.repository.ThemeRepository': 2, 'net.jforum.repository.TopicRepository': 2, 'net.jforum.repository.TopicWatchRepository': 2, 'net.jforum.repository.UserRepository': 2}\n"
     ]
    }
   ],
   "source": [
    "# Labels are 0: Application, 1: Utility, 2: Entity\n",
    "\n",
    "# Get the manually typed classes\n",
    "def process_file(filepath, label):\n",
    "    with open(filepath, 'r') as f:\n",
    "        for line in f:\n",
    "            class_labels[line.strip()] = label\n",
    "\n",
    "class_labels = {}\n",
    "process_file(\"ground_truths/\" + version + \"/\" + system + \"/classes/application.txt\", 0)\n",
    "process_file(\"ground_truths/\" + version + \"/\" + system + \"/classes/utility.txt\", 1)\n",
    "process_file(\"ground_truths/\" + version + \"/\" + system + \"/classes/entity.txt\", 2)\n",
    "\n",
    "print(class_labels)"
   ]
  },
  {
   "cell_type": "code",
   "execution_count": 6,
   "metadata": {},
   "outputs": [
    {
     "ename": "TypeError",
     "evalue": "generate_embeddings_for_java_file() missing 1 required positional argument: 'device'",
     "output_type": "error",
     "traceback": [
      "\u001b[1;31m---------------------------------------------------------------------------\u001b[0m",
      "\u001b[1;31mTypeError\u001b[0m                                 Traceback (most recent call last)",
      "\u001b[1;32mc:\\Users\\bianc\\Documents\\GitHub\\MicroserviceML\\playground_phase_1.ipynb Cell 7\u001b[0m line \u001b[0;36m5\n\u001b[0;32m      <a href='vscode-notebook-cell:/c%3A/Users/bianc/Documents/GitHub/MicroserviceML/playground_phase_1.ipynb#W6sZmlsZQ%3D%3D?line=2'>3</a>\u001b[0m class_code \u001b[39m=\u001b[39m load_class_code_from_directory(system)\n\u001b[0;32m      <a href='vscode-notebook-cell:/c%3A/Users/bianc/Documents/GitHub/MicroserviceML/playground_phase_1.ipynb#W6sZmlsZQ%3D%3D?line=3'>4</a>\u001b[0m \u001b[39mfor\u001b[39;00m class_name, code \u001b[39min\u001b[39;00m class_code\u001b[39m.\u001b[39mitems():\n\u001b[1;32m----> <a href='vscode-notebook-cell:/c%3A/Users/bianc/Documents/GitHub/MicroserviceML/playground_phase_1.ipynb#W6sZmlsZQ%3D%3D?line=4'>5</a>\u001b[0m     class_embeddings[class_name] \u001b[39m=\u001b[39m generate_embeddings_for_java_file(code, model, tokenizer)\n\u001b[0;32m      <a href='vscode-notebook-cell:/c%3A/Users/bianc/Documents/GitHub/MicroserviceML/playground_phase_1.ipynb#W6sZmlsZQ%3D%3D?line=6'>7</a>\u001b[0m \u001b[39m# Write embeddings to csv file\u001b[39;00m\n\u001b[0;32m      <a href='vscode-notebook-cell:/c%3A/Users/bianc/Documents/GitHub/MicroserviceML/playground_phase_1.ipynb#W6sZmlsZQ%3D%3D?line=7'>8</a>\u001b[0m save_embeddings_to_csv(version, system, model_type, class_embeddings, class_labels)\n",
      "\u001b[1;31mTypeError\u001b[0m: generate_embeddings_for_java_file() missing 1 required positional argument: 'device'"
     ]
    }
   ],
   "source": [
    "# For each class in class_code, generate embeddings and add to class_embeddings dictionary\n",
    "class_embeddings = {}\n",
    "class_code = load_class_code_from_directory(system)\n",
    "for class_name, code in class_code.items():\n",
    "    class_embeddings[class_name] = generate_embeddings_for_java_file(code, model, tokenizer, device)\n",
    "\n",
    "# Write embeddings to csv file\n",
    "save_embeddings_to_csv(version, system, model_type, class_embeddings, class_labels)"
   ]
  },
  {
   "cell_type": "markdown",
   "metadata": {},
   "source": [
    "## 1.2 Train ML models"
   ]
  },
  {
   "cell_type": "code",
   "execution_count": 30,
   "metadata": {},
   "outputs": [
    {
     "name": "stdout",
     "output_type": "stream",
     "text": [
      "[[-0.18812622 -0.07322095 -0.04142916 ... -0.12509549 -0.6195657\n",
      "   0.5668942 ]\n",
      " [-0.18266301 -0.02652007 -0.01852127 ... -0.1292542  -0.59713876\n",
      "   0.54415834]\n",
      " [-0.18029451  0.13444571  0.01210325 ... -0.23672481 -0.49645227\n",
      "   0.4131651 ]\n",
      " ...\n",
      " [-0.18025655 -0.03189673 -0.04783064 ... -0.14247401 -0.59984833\n",
      "   0.55347806]\n",
      " [-0.24345882 -0.04653927 -0.02923113 ... -0.13501357 -0.6327489\n",
      "   0.47451097]\n",
      " [-0.20725228  0.25259238 -0.01621119 ... -0.21184425 -0.46678564\n",
      "   0.45599747]]\n",
      "17\n"
     ]
    }
   ],
   "source": [
    "filename = f\"{version}_{system}_{model_type}_embeddings.csv\"\n",
    "class_names, labels, embeddings = load_data_from_csv(filename)\n",
    "\n",
    "Xtrain, Xtest, names_train, names_test = train_test_split(embeddings, class_names, test_size=0.3, random_state=0)\n",
    "\n",
    "ytrain = [labels[class_names.index(name)] for name in names_train]\n",
    "ytest = [labels[class_names.index(name)] for name in names_test]\n",
    "\n",
    "Xtrain = np.array(Xtrain)\n",
    "Xtest = np.array(Xtest)\n",
    "\n",
    "# Ensure that there's at least one instance of the \"Utility\" label in the training data\n",
    "if 1 not in ytrain:\n",
    "    utility_index = labels.index(1)\n",
    "    Xtrain = np.append(Xtrain, [embeddings[utility_index]], axis=0)\n",
    "    ytrain.append(1)\n",
    "\n",
    "print(Xtrain)\n",
    "print(len(Xtest))"
   ]
  },
  {
   "cell_type": "code",
   "execution_count": 34,
   "metadata": {},
   "outputs": [],
   "source": [
    "from sklearn.tree import DecisionTreeClassifier\n",
    "from sklearn.svm import SVC\n",
    "from sklearn.neighbors import KNeighborsClassifier\n",
    "from sklearn.linear_model import LogisticRegression\n",
    "from sklearn.naive_bayes import GaussianNB\n",
    "from sklearn.metrics import confusion_matrix, accuracy_score, classification_report"
   ]
  },
  {
   "cell_type": "code",
   "execution_count": 51,
   "metadata": {},
   "outputs": [],
   "source": [
    "def generate_classification_report(y_true, y_pred):\n",
    "    # Identify unique labels in both true labels and predictions\n",
    "    unique_labels = np.unique(np.concatenate((y_true, y_pred)))\n",
    "\n",
    "    # Map unique labels to their corresponding names\n",
    "    label_names_map = {-1: \"None\", 0: \"Application\", 1: \"Utility\", 2: \"Entity\"}\n",
    "    dynamic_label_names = [label_names_map[label] for label in unique_labels]\n",
    "\n",
    "    # Generate and print the classification report\n",
    "    print(classification_report(y_true, y_pred, target_names=dynamic_label_names))"
   ]
  },
  {
   "cell_type": "markdown",
   "metadata": {},
   "source": [
    "## Decision Tree"
   ]
  },
  {
   "cell_type": "code",
   "execution_count": 52,
   "metadata": {},
   "outputs": [
    {
     "name": "stdout",
     "output_type": "stream",
     "text": [
      "1.0\n",
      "[[8 0]\n",
      " [0 9]]\n",
      "              precision    recall  f1-score   support\n",
      "\n",
      " Application       1.00      1.00      1.00         8\n",
      "      Entity       1.00      1.00      1.00         9\n",
      "\n",
      "    accuracy                           1.00        17\n",
      "   macro avg       1.00      1.00      1.00        17\n",
      "weighted avg       1.00      1.00      1.00        17\n",
      "\n"
     ]
    }
   ],
   "source": [
    "decision_tree_classifier = DecisionTreeClassifier(max_depth=2).fit(Xtrain, ytrain)\n",
    "decision_tree_predictions = decision_tree_classifier.predict(Xtest)\n",
    "decision_tree_accuracy = accuracy_score(ytest, decision_tree_predictions)\n",
    "decision_tree_confusion_matrix = confusion_matrix(ytest, decision_tree_predictions)\n",
    "print(decision_tree_accuracy)\n",
    "print(decision_tree_confusion_matrix)\n",
    "generate_classification_report(ytest, decision_tree_predictions)"
   ]
  },
  {
   "cell_type": "markdown",
   "metadata": {},
   "source": [
    "## SVM"
   ]
  },
  {
   "cell_type": "code",
   "execution_count": 53,
   "metadata": {},
   "outputs": [
    {
     "name": "stdout",
     "output_type": "stream",
     "text": [
      "0.9411764705882353\n",
      "[[7 1 0]\n",
      " [0 0 0]\n",
      " [0 0 9]]\n",
      "              precision    recall  f1-score   support\n",
      "\n",
      " Application       1.00      0.88      0.93         8\n",
      "     Utility       0.00      0.00      0.00         0\n",
      "      Entity       1.00      1.00      1.00         9\n",
      "\n",
      "    accuracy                           0.94        17\n",
      "   macro avg       0.67      0.62      0.64        17\n",
      "weighted avg       1.00      0.94      0.97        17\n",
      "\n"
     ]
    },
    {
     "name": "stderr",
     "output_type": "stream",
     "text": [
      "c:\\Users\\bianc\\anaconda3\\envs\\sys800\\Lib\\site-packages\\sklearn\\metrics\\_classification.py:1469: UndefinedMetricWarning: Recall and F-score are ill-defined and being set to 0.0 in labels with no true samples. Use `zero_division` parameter to control this behavior.\n",
      "  _warn_prf(average, modifier, msg_start, len(result))\n",
      "c:\\Users\\bianc\\anaconda3\\envs\\sys800\\Lib\\site-packages\\sklearn\\metrics\\_classification.py:1469: UndefinedMetricWarning: Recall and F-score are ill-defined and being set to 0.0 in labels with no true samples. Use `zero_division` parameter to control this behavior.\n",
      "  _warn_prf(average, modifier, msg_start, len(result))\n",
      "c:\\Users\\bianc\\anaconda3\\envs\\sys800\\Lib\\site-packages\\sklearn\\metrics\\_classification.py:1469: UndefinedMetricWarning: Recall and F-score are ill-defined and being set to 0.0 in labels with no true samples. Use `zero_division` parameter to control this behavior.\n",
      "  _warn_prf(average, modifier, msg_start, len(result))\n"
     ]
    }
   ],
   "source": [
    "svm_classifier = SVC(kernel='linear', C=2).fit(Xtrain, ytrain)\n",
    "svm_predictions = svm_classifier.predict(Xtest)\n",
    "svm_accuracy = accuracy_score(ytest, svm_predictions)\n",
    "svm_confusion_matrix = confusion_matrix(ytest, svm_predictions)\n",
    "print(svm_accuracy)\n",
    "print(svm_confusion_matrix)\n",
    "generate_classification_report(ytest, svm_predictions)"
   ]
  },
  {
   "cell_type": "markdown",
   "metadata": {},
   "source": [
    "## KNN"
   ]
  },
  {
   "cell_type": "code",
   "execution_count": 54,
   "metadata": {},
   "outputs": [
    {
     "name": "stdout",
     "output_type": "stream",
     "text": [
      "0.8235294117647058\n",
      "[[8 0]\n",
      " [3 6]]\n",
      "              precision    recall  f1-score   support\n",
      "\n",
      " Application       0.73      1.00      0.84         8\n",
      "      Entity       1.00      0.67      0.80         9\n",
      "\n",
      "    accuracy                           0.82        17\n",
      "   macro avg       0.86      0.83      0.82        17\n",
      "weighted avg       0.87      0.82      0.82        17\n",
      "\n"
     ]
    }
   ],
   "source": [
    "knn_classifier = KNeighborsClassifier(n_neighbors=5).fit(Xtrain, ytrain)\n",
    "knn_predictions = knn_classifier.predict(Xtest)\n",
    "knn_accuracy = accuracy_score(ytest, knn_predictions)\n",
    "knn_confusion_matrix = confusion_matrix(ytest, knn_predictions)\n",
    "print(knn_accuracy)\n",
    "print(knn_confusion_matrix)\n",
    "generate_classification_report(ytest, knn_predictions)"
   ]
  },
  {
   "cell_type": "markdown",
   "metadata": {},
   "source": [
    "## LogisticRegression"
   ]
  },
  {
   "cell_type": "code",
   "execution_count": 55,
   "metadata": {},
   "outputs": [
    {
     "name": "stdout",
     "output_type": "stream",
     "text": [
      "1.0\n",
      "[[8 0]\n",
      " [0 9]]\n",
      "              precision    recall  f1-score   support\n",
      "\n",
      " Application       1.00      1.00      1.00         8\n",
      "      Entity       1.00      1.00      1.00         9\n",
      "\n",
      "    accuracy                           1.00        17\n",
      "   macro avg       1.00      1.00      1.00        17\n",
      "weighted avg       1.00      1.00      1.00        17\n",
      "\n"
     ]
    },
    {
     "name": "stderr",
     "output_type": "stream",
     "text": [
      "c:\\Users\\bianc\\anaconda3\\envs\\sys800\\Lib\\site-packages\\sklearn\\linear_model\\_logistic.py:460: ConvergenceWarning: lbfgs failed to converge (status=1):\n",
      "STOP: TOTAL NO. of ITERATIONS REACHED LIMIT.\n",
      "\n",
      "Increase the number of iterations (max_iter) or scale the data as shown in:\n",
      "    https://scikit-learn.org/stable/modules/preprocessing.html\n",
      "Please also refer to the documentation for alternative solver options:\n",
      "    https://scikit-learn.org/stable/modules/linear_model.html#logistic-regression\n",
      "  n_iter_i = _check_optimize_result(\n"
     ]
    }
   ],
   "source": [
    "logistic_regression_classifier = LogisticRegression(random_state=0).fit(Xtrain, ytrain)\n",
    "logistic_regression_predictions = logistic_regression_classifier.predict(Xtest)\n",
    "logistic_regression_accuracy = accuracy_score(ytest, logistic_regression_predictions)\n",
    "logistic_regression_confusion_matrix = confusion_matrix(ytest, logistic_regression_predictions)\n",
    "print(logistic_regression_accuracy)\n",
    "print(logistic_regression_confusion_matrix)\n",
    "generate_classification_report(ytest, logistic_regression_predictions)"
   ]
  },
  {
   "cell_type": "markdown",
   "metadata": {},
   "source": [
    "## Gaussian NB"
   ]
  },
  {
   "cell_type": "code",
   "execution_count": 56,
   "metadata": {},
   "outputs": [
    {
     "name": "stdout",
     "output_type": "stream",
     "text": [
      "1.0\n",
      "[[8 0]\n",
      " [0 9]]\n",
      "              precision    recall  f1-score   support\n",
      "\n",
      " Application       1.00      1.00      1.00         8\n",
      "      Entity       1.00      1.00      1.00         9\n",
      "\n",
      "    accuracy                           1.00        17\n",
      "   macro avg       1.00      1.00      1.00        17\n",
      "weighted avg       1.00      1.00      1.00        17\n",
      "\n"
     ]
    }
   ],
   "source": [
    "naive_bayes_classifier = GaussianNB().fit(Xtrain, ytrain)\n",
    "naive_bayes_predictions = naive_bayes_classifier.predict(Xtest)\n",
    "naive_bayes_accuracy = accuracy_score(ytest, naive_bayes_predictions)\n",
    "naive_bayes_confusion_matrix = confusion_matrix(ytest, naive_bayes_predictions)\n",
    "print(naive_bayes_accuracy)\n",
    "print(naive_bayes_confusion_matrix)\n",
    "generate_classification_report(ytest, naive_bayes_predictions)"
   ]
  }
 ],
 "metadata": {
  "kernelspec": {
   "display_name": "Python 3.11.3 64-bit",
   "language": "python",
   "name": "python3"
  },
  "language_info": {
   "codemirror_mode": {
    "name": "ipython",
    "version": 3
   },
   "file_extension": ".py",
   "mimetype": "text/x-python",
   "name": "python",
   "nbconvert_exporter": "python",
   "pygments_lexer": "ipython3",
   "version": "3.11.5"
  },
  "vscode": {
   "interpreter": {
    "hash": "b0fa6594d8f4cbf19f97940f81e996739fb7646882a419484c72d19e05852a7e"
   }
  }
 },
 "nbformat": 4,
 "nbformat_minor": 4
}
