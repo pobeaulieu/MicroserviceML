{
 "cells": [
  {
   "cell_type": "markdown",
   "metadata": {},
   "source": [
    "#### 1. Imports"
   ]
  },
  {
   "cell_type": "code",
   "execution_count": null,
   "metadata": {},
   "outputs": [],
   "source": [
    "import optuna\n",
    "import torch\n",
    "from transformers import AutoTokenizer, AutoModelForSequenceClassification, Trainer, TrainingArguments, AutoModel\n",
    "from torch.utils.data import Dataset, DataLoader\n",
    "from sklearn.model_selection import train_test_split\n",
    "import accelerate # leave here\n",
    "import numpy as np\n",
    "from utils import load_class_code_from_directory, save_embeddings_to_csv, process_files\n",
    "from embeddings import generate_embeddings_for_java_file"
   ]
  },
  {
   "cell_type": "code",
   "execution_count": null,
   "metadata": {},
   "outputs": [],
   "source": [
    "# Check if CUDA (GPU) is available and if so, set the device to GPU\n",
    "if torch.cuda.is_available():  \n",
    "  dev = \"cuda:0\" \n",
    "else:  \n",
    "  dev = \"cpu\"  \n",
    "\n",
    "device = torch.device(dev)"
   ]
  },
  {
   "cell_type": "markdown",
   "metadata": {},
   "source": [
    "#### 2. Generate examples for fine-tuning CodeBERT (from POS)"
   ]
  },
  {
   "cell_type": "code",
   "execution_count": null,
   "metadata": {},
   "outputs": [],
   "source": [
    "# TODO : Add fine tuning examples here (use POS classes to begin with)\n",
    "\n",
    "# Labels are 0: Application, 1: Utility, 2: Entity\n",
    "class_labels = process_files('v_imen', 'pos')\n",
    "\n",
    "class_code = load_class_code_from_directory('pos')\n",
    "\n",
    "# Put data in the below format by combining class_code and class_labels based on key if label exists\n",
    "# examples = [\n",
    "#     {\"text\": \"<your Java class code here>\", \"label\": 0},\n",
    "#     {\"text\": \"<another Java class code here>\", \"label\": 1},\n",
    "#     ...]\n",
    "\n",
    "examples = []\n",
    "for key in class_code.keys():\n",
    "    if key in class_labels.keys():\n",
    "        examples.append({\"text\": class_code[key], \"label\": class_labels[key]})\n",
    "\n",
    "# Print first 5 examples\n",
    "print(examples[:5])"
   ]
  },
  {
   "cell_type": "markdown",
   "metadata": {},
   "source": [
    "#### 3. Fine-tuning and optimization"
   ]
  },
  {
   "cell_type": "code",
   "execution_count": null,
   "metadata": {},
   "outputs": [],
   "source": [
    "# Implement a PyTorch Dataset\n",
    "class CodingDataset(Dataset):\n",
    "    def __init__(self, examples, tokenizer):\n",
    "        self.examples = examples\n",
    "        self.tokenizer = tokenizer\n",
    "        \n",
    "    def __len__(self):\n",
    "        return len(self.examples)\n",
    "        \n",
    "    def __getitem__(self, idx):\n",
    "        example = self.examples[idx]\n",
    "        encoding = self.tokenizer(example['text'], padding='max_length', truncation=True, max_length=512, return_tensors='pt')\n",
    "        encoding = {key: torch.flatten(value) for key, value in encoding.items()}  # Flatten tensors\n",
    "        encoding['labels'] = torch.tensor(example['label'])\n",
    "        return encoding"
   ]
  },
  {
   "cell_type": "code",
   "execution_count": null,
   "metadata": {},
   "outputs": [],
   "source": [
    "# Split your data into train and validation sets\n",
    "train_examples, val_examples = train_test_split(examples, test_size=0.1)\n",
    "\n",
    "tokenizer = AutoTokenizer.from_pretrained(\"microsoft/codebert-base\", force_download=False)\n",
    "model = AutoModelForSequenceClassification.from_pretrained(\"microsoft/codebert-base\", num_labels=3, force_download=False)\n",
    "model = model.to(device)\n",
    "\n",
    "best_params = None"
   ]
  },
  {
   "cell_type": "code",
   "execution_count": null,
   "metadata": {},
   "outputs": [],
   "source": [
    "# Define objective function for optuna to optimize\n",
    "def objective(trial):\n",
    "    # Define hyperparameters for this trial\n",
    "    lr = trial.suggest_loguniform('lr', 1e-5, 1e-1)  # Learning rate\n",
    "    batch_size = trial.suggest_categorical('batch_size', [8, 16, 32, 64])  # Batch size\n",
    "\n",
    "    # Create data loaders\n",
    "    train_dataset = CodingDataset(train_examples, tokenizer)\n",
    "    val_dataset = CodingDataset(val_examples, tokenizer)\n",
    "\n",
    "    # Specify the training arguments\n",
    "    training_args = TrainingArguments(\n",
    "        output_dir='./results',\n",
    "        num_train_epochs=trial.suggest_int('num_train_epochs', 1, 10), # tune hyperparameter here\n",
    "        learning_rate=lr,\n",
    "        per_device_train_batch_size=batch_size,\n",
    "        logging_dir='./logs',\n",
    "    )\n",
    "\n",
    "    # Training\n",
    "    trainer = Trainer(\n",
    "        model=model,\n",
    "        args=training_args,  \n",
    "        train_dataset=train_dataset,         \n",
    "        eval_dataset=val_dataset             \n",
    "    )\n",
    "\n",
    "    trainer.train()\n",
    "\n",
    "    # Evaluate the model on the validation set\n",
    "    eval_result = trainer.evaluate()\n",
    "        \n",
    "    # Optuna seeks for the minimum so return loss as it is\n",
    "    return eval_result[\"eval_loss\"]"
   ]
  },
  {
   "cell_type": "code",
   "execution_count": null,
   "metadata": {},
   "outputs": [],
   "source": [
    "# TODO : Eventually, add argument to .py script to run optuna if desired\n",
    "if False:\n",
    "    # Create a study to run the hyperparameter optimization\n",
    "    study = optuna.create_study(direction=\"minimize\")\n",
    "\n",
    "    # Run the optimization\n",
    "    study.optimize(objective, n_trials=10)\n",
    "\n",
    "    # Print the results\n",
    "    best_params = study.best_params\n",
    "    print(f\"Best hyperparameters: {best_params}\")"
   ]
  },
  {
   "cell_type": "code",
   "execution_count": null,
   "metadata": {},
   "outputs": [],
   "source": [
    "def custom_collate_fn(batch):\n",
    "    keys = batch[0].keys()\n",
    "    output_batch = {key: torch.stack([item[key] for item in batch]) for key in keys}\n",
    "    return output_batch"
   ]
  },
  {
   "cell_type": "code",
   "execution_count": null,
   "metadata": {},
   "outputs": [],
   "source": [
    "# Trial 4 finished with value: 0.0006419435958378017 and parameters: {'lr': 0.0002536818790618518, 'batch_size': 16, 'num_train_epochs': 8}. \n",
    "# Best is trial 4 with value: 0.0006419435958378017.\n",
    "\n",
    "if best_params is None:\n",
    "    best_params = {'lr': 0.0002536818790618518, 'batch_size': 16, 'num_train_epochs': 8}\n",
    "\n",
    "# Fine tuning the model with the best parameters\n",
    "dataset = CodingDataset(examples, tokenizer)\n",
    "dataloader = DataLoader(dataset, batch_size=best_params['batch_size'], collate_fn=custom_collate_fn)\n",
    "\n",
    "# We'll use Adam as our optimizer\n",
    "optimizer = torch.optim.Adam(model.parameters(), lr=best_params['lr'])\n",
    "\n",
    "# Put your model into training mode\n",
    "model.train()\n",
    "\n",
    "# Training loop\n",
    "epochs = best_params['num_train_epochs'] # for fine tune, we also use best epochs\n",
    "for epoch in range(epochs):\n",
    "    for idx, batch in enumerate(dataloader):\n",
    "        batch = {key: value.to(device) for key, value in batch.items()} # moving batch data to the device\n",
    "        optimizer.zero_grad()  # Reset gradients\n",
    "        outputs = model(**batch)  # Forward pass\n",
    "        loss = outputs.loss  # Calculate the loss from the outputs\n",
    "        loss.backward()  # Backpropagation\n",
    "        optimizer.step()  # Adjust model weights based on gradients\n",
    "\n",
    "    print(\"Training completed.\")"
   ]
  },
  {
   "cell_type": "code",
   "execution_count": null,
   "metadata": {},
   "outputs": [],
   "source": [
    "# Save the model\n",
    "model.save_pretrained(\"./codebert_finetuned\")\n",
    "tokenizer.save_pretrained(\"./codebert_finetuned\")"
   ]
  },
  {
   "cell_type": "markdown",
   "metadata": {},
   "source": [
    "#### 4. Embedding generation"
   ]
  },
  {
   "cell_type": "code",
   "execution_count": null,
   "metadata": {},
   "outputs": [],
   "source": [
    "# Load the fine-tuned model and tokenizer\n",
    "model = AutoModel.from_pretrained(\"./codebert_finetuned\")\n",
    "tokenizer = AutoTokenizer.from_pretrained(\"./codebert_finetuned\", force_download=False)  # Use the fine-tuned tokenizer\n",
    "\n",
    "model = model.to(device)\n",
    "version = 'v_team'\n",
    "\n",
    "# TODO : Generate embeddings for all systems, save them to csv file and use them in the next step\n",
    "for system in ['jforum']:\n",
    "    class_code = load_class_code_from_directory(system)\n",
    "\n",
    "    class_embeddings = {}\n",
    "    for class_name, code in class_code.items():\n",
    "        class_embeddings[class_name] = generate_embeddings_for_java_file(code, model, tokenizer, device)\n",
    "\n",
    "    save_embeddings_to_csv(version, system, 'ft_codebert', class_embeddings)"
   ]
  }
 ],
 "metadata": {
  "kernelspec": {
   "display_name": "sys800",
   "language": "python",
   "name": "python3"
  },
  "language_info": {
   "codemirror_mode": {
    "name": "ipython",
    "version": 3
   },
   "file_extension": ".py",
   "mimetype": "text/x-python",
   "name": "python",
   "nbconvert_exporter": "python",
   "pygments_lexer": "ipython3",
   "version": "3.11.5"
  },
  "orig_nbformat": 4
 },
 "nbformat": 4,
 "nbformat_minor": 2
}
