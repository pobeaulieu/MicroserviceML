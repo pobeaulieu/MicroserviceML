{
 "cells": [
  {
   "cell_type": "markdown",
   "metadata": {},
   "source": [
    "### Imports"
   ]
  },
  {
   "cell_type": "code",
   "execution_count": null,
   "metadata": {},
   "outputs": [],
   "source": [
    "import optuna\n",
    "import torch\n",
    "from transformers import AutoTokenizer, AutoModelForSequenceClassification, Trainer, TrainingArguments, AutoModel\n",
    "from torch.utils.data import Dataset, DataLoader\n",
    "from sklearn.model_selection import train_test_split\n",
    "import accelerate # leave here\n",
    "import numpy as np\n",
    "from utils import load_class_code_from_directory, associate_classes_to_types"
   ]
  },
  {
   "cell_type": "code",
   "execution_count": null,
   "metadata": {},
   "outputs": [],
   "source": [
    "# Check if CUDA (GPU) is available and if so, set the device to GPU\n",
    "if torch.cuda.is_available():  \n",
    "  dev = \"cuda:0\" \n",
    "else:  \n",
    "  dev = \"cpu\"  \n",
    "\n",
    "device = torch.device(dev)"
   ]
  },
  {
   "cell_type": "markdown",
   "metadata": {},
   "source": [
    "## 1. Generate examples for fine-tuning CodeBERT (from POS)"
   ]
  },
  {
   "cell_type": "code",
   "execution_count": null,
   "metadata": {},
   "outputs": [],
   "source": [
    "# TODO : Add fine tuning examples here (use POS classes to begin with)\n",
    "\n",
    "# Labels are 0: Application, 1: Utility, 2: Entity\n",
    "class_labels = associate_classes_to_types('v_imen', 'pos')\n",
    "\n",
    "class_code = load_class_code_from_directory('pos')\n",
    "\n",
    "# Put data in the below format by combining class_code and class_labels based on key if label exists\n",
    "# examples = [\n",
    "#     {\"text\": \"<your Java class code here>\", \"label\": 0},\n",
    "#     {\"text\": \"<another Java class code here>\", \"label\": 1},\n",
    "#     ...]\n",
    "\n",
    "examples = []\n",
    "for key in class_code.keys():\n",
    "    if key in class_labels.keys():\n",
    "        examples.append({\"text\": class_code[key], \"label\": class_labels[key]})\n",
    "\n",
    "# Print first 5 examples\n",
    "print(examples[:5])"
   ]
  },
  {
   "cell_type": "markdown",
   "metadata": {},
   "source": [
    "## 2. Fine-tuning"
   ]
  },
  {
   "cell_type": "code",
   "execution_count": null,
   "metadata": {},
   "outputs": [],
   "source": [
    "# Implement a PyTorch Dataset\n",
    "class CodingDataset(Dataset):\n",
    "    def __init__(self, examples, tokenizer):\n",
    "        self.examples = examples\n",
    "        self.tokenizer = tokenizer\n",
    "        \n",
    "    def __len__(self):\n",
    "        return len(self.examples)\n",
    "        \n",
    "    def __getitem__(self, idx):\n",
    "        example = self.examples[idx]\n",
    "        encoding = self.tokenizer(example['text'], padding='max_length', truncation=True, max_length=512, return_tensors='pt')\n",
    "        encoding = {key: value.squeeze(0) for key, value in encoding.items()}\n",
    "        return {\"input_ids\": encoding[\"input_ids\"], \"attention_mask\": encoding[\"attention_mask\"], \"labels\": example[\"label\"]}"
   ]
  },
  {
   "cell_type": "code",
   "execution_count": null,
   "metadata": {},
   "outputs": [],
   "source": [
    "# Split data into train and validation sets\n",
    "train_examples, val_examples = train_test_split(examples, test_size=0.1)\n",
    "\n",
    "tokenizer = AutoTokenizer.from_pretrained(\"microsoft/codebert-base\", force_download=False)\n",
    "model = AutoModelForSequenceClassification.from_pretrained(\"microsoft/codebert-base\", num_labels=3, force_download=False)\n",
    "model = model.to(device)"
   ]
  },
  {
   "cell_type": "code",
   "execution_count": null,
   "metadata": {},
   "outputs": [],
   "source": [
    "def train_model(model, examples, tokenizer, device, lr=0.00014471090778860618, batch_size=16, num_train_epochs=8):\n",
    "    dataset = CodingDataset(examples, tokenizer)\n",
    "    dataloader = DataLoader(dataset, batch_size=batch_size)\n",
    "\n",
    "    optimizer = torch.optim.Adam(model.parameters(), lr=lr)\n",
    "    model.train()\n",
    "\n",
    "    epochs = num_train_epochs\n",
    "    for epoch in range(epochs):\n",
    "        for idx, batch in enumerate(dataloader):\n",
    "            batch = {key: value.squeeze().to(device) for key, value in batch.items()}\n",
    "            optimizer.zero_grad()\n",
    "            outputs = model(**batch)\n",
    "            loss = outputs.loss\n",
    "            loss.backward()\n",
    "            optimizer.step()\n",
    "\n",
    "        print(\"Training completed.\")"
   ]
  },
  {
   "cell_type": "code",
   "execution_count": null,
   "metadata": {},
   "outputs": [],
   "source": [
    "# Fine-tune and save the model\n",
    "train_model(model, train_examples, tokenizer, device)\n",
    "model.save_pretrained(\"./codebert_finetuned\")\n",
    "tokenizer.save_pretrained(\"./codebert_finetuned\")"
   ]
  },
  {
   "cell_type": "markdown",
   "metadata": {},
   "source": [
    "## 3. Optimization (optional)"
   ]
  },
  {
   "cell_type": "code",
   "execution_count": null,
   "metadata": {},
   "outputs": [],
   "source": [
    "# Define objective function for optuna to optimize\n",
    "def objective(trial):\n",
    "    def model_init():\n",
    "        model = AutoModelForSequenceClassification.from_pretrained(\"microsoft/codebert-base\", num_labels=3)\n",
    "        model = model.to(device)\n",
    "        return model\n",
    "    # Define hyperparameters for this trial\n",
    "    lr = trial.suggest_loguniform('lr', 1e-5, 1e-1)  # Learning rate\n",
    "    batch_size = trial.suggest_categorical('batch_size', [8, 16, 32, 64])  # Batch size\n",
    "\n",
    "    # Create data loaders\n",
    "    train_dataset = CodingDataset(train_examples, tokenizer)\n",
    "    val_dataset = CodingDataset(val_examples, tokenizer)\n",
    "\n",
    "    # Specify the training arguments\n",
    "    training_args = TrainingArguments(\n",
    "        output_dir='./results',\n",
    "        num_train_epochs=trial.suggest_int('num_train_epochs', 1, 10), # tune hyperparameter here\n",
    "        learning_rate=lr,\n",
    "        per_device_train_batch_size=batch_size,\n",
    "        logging_dir='./logs',\n",
    "    )\n",
    "\n",
    "    # Training\n",
    "    trainer = Trainer(\n",
    "        model_init=model_init,\n",
    "        args=training_args,  \n",
    "        train_dataset=train_dataset,         \n",
    "        eval_dataset=val_dataset             \n",
    "    )\n",
    "\n",
    "    trainer.train()\n",
    "\n",
    "    # Evaluate the model on the validation set\n",
    "    eval_result = trainer.evaluate()\n",
    "        \n",
    "    # Optuna seeks for the minimum so return loss as it is\n",
    "    return eval_result[\"eval_loss\"]"
   ]
  },
  {
   "cell_type": "code",
   "execution_count": null,
   "metadata": {},
   "outputs": [],
   "source": [
    "best_params = None\n",
    "\n",
    "# TODO : Eventually, add argument to .py script to run optuna if desired\n",
    "if False:\n",
    "    # Create a study to run the hyperparameter optimization\n",
    "    study = optuna.create_study(direction=\"minimize\")\n",
    "\n",
    "    # Run the optimization\n",
    "    study.optimize(objective, n_trials=10)\n",
    "\n",
    "    # Print the results\n",
    "    best_params = study.best_params\n",
    "    print(f\"Best hyperparameters: {best_params}\")"
   ]
  },
  {
   "cell_type": "code",
   "execution_count": null,
   "metadata": {},
   "outputs": [],
   "source": [
    "# Fine-tune with best parameters from study and save the model\n",
    "train_model(model, train_examples, tokenizer, device, best_params['lr'], best_params['batch_size'], best_params['num_train_epochs'])\n",
    "model.save_pretrained(\"./codebert_finetuned\")\n",
    "tokenizer.save_pretrained(\"./codebert_finetuned\")"
   ]
  }
 ],
 "metadata": {
  "kernelspec": {
   "display_name": "sys800",
   "language": "python",
   "name": "python3"
  },
  "language_info": {
   "codemirror_mode": {
    "name": "ipython",
    "version": 3
   },
   "file_extension": ".py",
   "mimetype": "text/x-python",
   "name": "python",
   "nbconvert_exporter": "python",
   "pygments_lexer": "ipython3",
   "version": "3.11.5"
  }
 },
 "nbformat": 4,
 "nbformat_minor": 2
}
