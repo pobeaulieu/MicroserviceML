{
 "cells": [
  {
   "cell_type": "markdown",
   "metadata": {},
   "source": [
    "#### 1. Imports"
   ]
  },
  {
   "cell_type": "code",
   "execution_count": 14,
   "metadata": {},
   "outputs": [
    {
     "ename": "ImportError",
     "evalue": "cannot import name 'save_embeddings_to_csv' from 'utils' (c:\\Users\\bianc\\Documents\\GitHub\\MicroserviceML\\utils.py)",
     "output_type": "error",
     "traceback": [
      "\u001b[1;31m---------------------------------------------------------------------------\u001b[0m",
      "\u001b[1;31mImportError\u001b[0m                               Traceback (most recent call last)",
      "\u001b[1;32mc:\\Users\\bianc\\Documents\\GitHub\\MicroserviceML\\finetune_codebert.ipynb Cell 2\u001b[0m line \u001b[0;36m9\n\u001b[0;32m      <a href='vscode-notebook-cell:/c%3A/Users/bianc/Documents/GitHub/MicroserviceML/finetune_codebert.ipynb#W1sZmlsZQ%3D%3D?line=6'>7</a>\u001b[0m \u001b[39mimport\u001b[39;00m \u001b[39maccelerate\u001b[39;00m \u001b[39m# leave here\u001b[39;00m\n\u001b[0;32m      <a href='vscode-notebook-cell:/c%3A/Users/bianc/Documents/GitHub/MicroserviceML/finetune_codebert.ipynb#W1sZmlsZQ%3D%3D?line=7'>8</a>\u001b[0m \u001b[39mimport\u001b[39;00m \u001b[39mnumpy\u001b[39;00m \u001b[39mas\u001b[39;00m \u001b[39mnp\u001b[39;00m\n\u001b[1;32m----> <a href='vscode-notebook-cell:/c%3A/Users/bianc/Documents/GitHub/MicroserviceML/finetune_codebert.ipynb#W1sZmlsZQ%3D%3D?line=8'>9</a>\u001b[0m \u001b[39mfrom\u001b[39;00m \u001b[39mutils\u001b[39;00m \u001b[39mimport\u001b[39;00m load_class_code_from_directory, save_embeddings_to_csv\n\u001b[0;32m     <a href='vscode-notebook-cell:/c%3A/Users/bianc/Documents/GitHub/MicroserviceML/finetune_codebert.ipynb#W1sZmlsZQ%3D%3D?line=9'>10</a>\u001b[0m \u001b[39mfrom\u001b[39;00m \u001b[39mgenerate_embeddings\u001b[39;00m \u001b[39mimport\u001b[39;00m generate_embeddings_for_java_file\n",
      "\u001b[1;31mImportError\u001b[0m: cannot import name 'save_embeddings_to_csv' from 'utils' (c:\\Users\\bianc\\Documents\\GitHub\\MicroserviceML\\utils.py)"
     ]
    }
   ],
   "source": [
    "import optuna\n",
    "import torch\n",
    "from transformers import AutoTokenizer, AutoModelForSequenceClassification, Trainer, TrainingArguments, AutoModel\n",
    "from torch.utils.data import Dataset, DataLoader\n",
    "from sklearn.model_selection import train_test_split\n",
    "import os\n",
    "import accelerate # leave here\n",
    "import numpy as np\n",
    "from utils import load_class_code_from_directory, save_embeddings_to_csv\n",
    "from generate_embeddings import generate_embeddings_for_java_file"
   ]
  },
  {
   "cell_type": "code",
   "execution_count": 4,
   "metadata": {},
   "outputs": [],
   "source": [
    "# Check if CUDA (GPU) is available and if so, set the device to GPU\n",
    "if torch.cuda.is_available():  \n",
    "  dev = \"cuda:0\" \n",
    "else:  \n",
    "  dev = \"cpu\"  \n",
    "\n",
    "device = torch.device(dev)"
   ]
  },
  {
   "cell_type": "markdown",
   "metadata": {},
   "source": [
    "#### 2. Generate examples for fine-tuning CodeBERT (from POS)"
   ]
  },
  {
   "cell_type": "code",
   "execution_count": 5,
   "metadata": {},
   "outputs": [
    {
     "name": "stdout",
     "output_type": "stream",
     "text": [
      "[{'text': 'package com.rafsan.inventory.controller.admin;\\n\\nimport com.rafsan.inventory.entity.Invoice;\\nimport com.rafsan.inventory.entity.Product;\\nimport com.rafsan.inventory.model.InvoiceModel;\\nimport com.rafsan.inventory.model.ProductModel;\\nimport java.net.URL;\\nimport java.text.DateFormatSymbols;\\nimport java.util.Locale;\\nimport java.util.ResourceBundle;\\nimport javafx.animation.TranslateTransition;\\nimport javafx.collections.FXCollections;\\nimport javafx.collections.ObservableList;\\nimport javafx.event.ActionEvent;\\nimport javafx.fxml.FXML;\\nimport javafx.fxml.FXMLLoader;\\nimport javafx.fxml.Initializable;\\nimport javafx.scene.Node;\\nimport javafx.scene.Parent;\\nimport javafx.scene.Scene;\\nimport javafx.scene.chart.BarChart;\\nimport javafx.scene.chart.CategoryAxis;\\nimport javafx.scene.chart.LineChart;\\nimport javafx.scene.chart.PieChart;\\nimport javafx.scene.chart.XYChart;\\nimport javafx.scene.control.Button;\\nimport javafx.scene.image.Image;\\nimport javafx.scene.input.MouseEvent;\\nimport javafx.scene.layout.VBox;\\nimport javafx.stage.Stage;\\nimport javafx.stage.StageStyle;\\nimport javafx.util.Duration;\\n\\npublic class AdminController implements Initializable {\\n\\n    private double xOffset = 0;\\n    private double yOffset = 0;\\n\\n    @FXML\\n    private Button menu;\\n    @FXML\\n    private VBox drawer;\\n\\n    @FXML\\n    private LineChart<String, Number> invoiceChart;\\n    @FXML\\n    CategoryAxis ixAxis;\\n    @FXML\\n    private BarChart<String, Double> productsChart;\\n    @FXML\\n    CategoryAxis pxAxis;\\n    \\n    @FXML\\n    private PieChart stockChart;\\n\\n    private ProductModel productModel;\\n    private InvoiceModel invoiceModel;\\n\\n    @Override\\n    public void initialize(URL location, ResourceBundle resources) {\\n\\n        productModel = new ProductModel();\\n        invoiceModel = new InvoiceModel();\\n\\n        drawerAction();\\n        loadInvoiceChart();\\n        loadProductsChart();\\n        loadStockChart();\\n    }\\n\\n    private void drawerAction() {\\n\\n        TranslateTransition openNav = new TranslateTransition(new Duration(350), drawer);\\n        openNav.setToX(0);\\n        TranslateTransition closeNav = new TranslateTransition(new Duration(350), drawer);\\n        menu.setOnAction((ActionEvent evt) -> {\\n            if (drawer.getTranslateX() != 0) {\\n                openNav.play();\\n                menu.getStyleClass().remove(\"hamburger-button\");\\n                menu.getStyleClass().add(\"open-menu\");\\n            } else {\\n                closeNav.setToX(-(drawer.getWidth()));\\n                closeNav.play();\\n                menu.getStyleClass().remove(\"open-menu\");\\n                menu.getStyleClass().add(\"hamburger-button\");\\n            }\\n        });\\n    }\\n\\n    private void loadInvoiceChart() {\\n\\n        String[] months = DateFormatSymbols.getInstance(Locale.ENGLISH).getMonths();\\n        ObservableList lists = FXCollections.observableArrayList(months);\\n        XYChart.Series series = new XYChart.Series();\\n\\n        for (Invoice i : invoiceModel.getInvoices()) {\\n            String month = convertDate(i.getDate());\\n            series.getData().add(new XYChart.Data(month, i.getPayable()));\\n        }\\n\\n        series.setName(\"Sales\");\\n        ixAxis.setCategories(lists);\\n        invoiceChart.getData().add(series);\\n    }\\n\\n    private void loadProductsChart() {\\n\\n        ObservableList lists = FXCollections.observableArrayList();\\n        XYChart.Series<String, Double> series = new XYChart.Series<>();\\n\\n        for (Product p : productModel.getProducts()) {\\n            series.getData().add(new XYChart.Data(p.getProductName(), p.getQuantity()));\\n            lists.add(p.getProductName());\\n        }\\n\\n        series.setName(\"Products\");\\n        pxAxis.setCategories(lists);\\n        productsChart.getData().add(series);\\n    }\\n\\n    private String convertDate(String date) {\\n\\n        int d = Integer.parseInt(date.substring(5, 7));\\n        return new DateFormatSymbols().getMonths()[d - 1];\\n    }\\n    \\n    private void loadStockChart(){\\n    \\n        ObservableList<PieChart.Data> lists = FXCollections.observableArrayList();\\n        \\n        for(Product p : productModel.getProducts()){\\n        \\n            lists.add(new PieChart.Data(p.getProductName(), p.getQuantity()));\\n        }\\n        \\n        stockChart.getData().addAll(lists);\\n    }\\n\\n    @FXML\\n    public void productAction(ActionEvent event) throws Exception {\\n\\n        windows(\"/fxml/Product.fxml\", \"Product\", event);\\n    }\\n\\n    @FXML\\n    public void categoryAction(ActionEvent event) throws Exception {\\n\\n        windows(\"/fxml/Category.fxml\", \"Category\", event);\\n    }\\n\\n    @FXML\\n    public void purchaseAction(ActionEvent event) throws Exception {\\n\\n        windows(\"/fxml/Purchase.fxml\", \"Purchase\", event);\\n    }\\n\\n    @FXML\\n    public void salesAction(ActionEvent event) throws Exception {\\n\\n        windows(\"/fxml/Sales.fxml\", \"Sales\", event);\\n    }\\n\\n    @FXML\\n    public void supplierAction(ActionEvent event) throws Exception {\\n        windows(\"/fxml/Supplier.fxml\", \"Supplier\", event);\\n    }\\n\\n    @FXML\\n    public void reportAction(ActionEvent event) throws Exception {\\n        windows(\"/fxml/Report.fxml\", \"Report\", event);\\n    }\\n\\n    @FXML\\n    public void staffAction(ActionEvent event) throws Exception {\\n        windows(\"/fxml/Employee.fxml\", \"Employee\", event);\\n    }\\n\\n    @FXML\\n    public void logoutAction(ActionEvent event) throws Exception {\\n        ((Node) (event.getSource())).getScene().getWindow().hide();\\n        Parent root = FXMLLoader.load(getClass().getResource(\"/fxml/Login.fxml\"));\\n        Stage stage = new Stage();\\n        root.setOnMousePressed((MouseEvent e) -> {\\n            xOffset = e.getSceneX();\\n            yOffset = e.getSceneY();\\n        });\\n        root.setOnMouseDragged((MouseEvent e) -> {\\n            stage.setX(e.getScreenX() - xOffset);\\n            stage.setY(e.getScreenY() - yOffset);\\n        });\\n        Scene scene = new Scene(root);\\n        stage.setTitle(\"Inventory:: Version 1.0\");\\n        stage.getIcons().add(new Image(\"/images/logo.png\"));\\n        stage.initStyle(StageStyle.UNDECORATED);\\n        stage.setScene(scene);\\n        stage.show();\\n    }\\n\\n    private void windows(String path, String title, ActionEvent event) throws Exception {\\n\\n        double width = ((Node) event.getSource()).getScene().getWidth();\\n        double height = ((Node) event.getSource()).getScene().getHeight();\\n\\n        Parent root = FXMLLoader.load(getClass().getResource(path));\\n        Scene scene = new Scene(root, width, height);\\n        Stage stage = (Stage) ((Node) event.getSource()).getScene().getWindow();\\n        stage.setTitle(title);\\n        stage.getIcons().add(new Image(\"/images/logo.png\"));\\n        stage.setScene(scene);\\n        stage.show();\\n    }\\n}\\n', 'label': 0}, {'text': 'package com.rafsan.inventory.controller.category;\\n\\nimport com.rafsan.inventory.entity.Category;\\nimport com.rafsan.inventory.interfaces.CategoryInterface;\\nimport static com.rafsan.inventory.interfaces.CategoryInterface.CATEGORYLIST;\\nimport com.rafsan.inventory.model.CategoryModel;\\nimport java.net.URL;\\nimport java.util.ResourceBundle;\\nimport javafx.event.ActionEvent;\\nimport javafx.fxml.FXML;\\nimport javafx.fxml.Initializable;\\nimport javafx.scene.Node;\\nimport javafx.scene.control.Alert;\\nimport javafx.scene.control.Button;\\nimport javafx.scene.control.TextArea;\\nimport javafx.scene.control.TextField;\\nimport javafx.stage.Stage;\\n\\npublic class AddController implements Initializable, CategoryInterface {\\n    \\n    @FXML\\n    private TextField typeField;\\n    @FXML\\n    private TextArea descriptionArea;\\n    @FXML\\n    private Button saveButton;\\n    private CategoryModel categoryModel;\\n\\n    @Override\\n    public void initialize(URL location, ResourceBundle resources) {\\n        categoryModel = new CategoryModel();\\n    }\\n    \\n    @FXML\\n    public void handleCancel(ActionEvent event) {\\n        typeField.setText(\"\");\\n        descriptionArea.setText(\"\");\\n    }\\n    \\n    @FXML\\n    public void handleSave(ActionEvent event) {\\n\\n        if (validateInput()) {\\n\\n            Category category = new Category(\\n                    typeField.getText(),\\n                    descriptionArea.getText()\\n            );\\n\\n            categoryModel.saveCategory(category);\\n            CATEGORYLIST.clear();\\n            CATEGORYLIST.addAll(categoryModel.getCategories());\\n\\n            ((Stage) saveButton.getScene().getWindow()).close();\\n\\n            Alert alert = new Alert(Alert.AlertType.INFORMATION);\\n            alert.setTitle(\"Successful\");\\n            alert.setHeaderText(\"Category Created!\");\\n            alert.setContentText(\"Category is created successfully\");\\n            alert.showAndWait();\\n        }\\n    }\\n    \\n    private boolean validateInput() {\\n\\n        String errorMessage = \"\";\\n\\n        if (typeField.getText() == null || typeField.getText().length() == 0) {\\n            errorMessage += \"No valid name!\\\\n\";\\n        }\\n\\n        if (descriptionArea.getText() == null || descriptionArea.getText().length() == 0) {\\n            errorMessage += \"No email description!\\\\n\";\\n        }\\n\\n        if (errorMessage.length() == 0) {\\n            return true;\\n        } else {\\n            Alert alert = new Alert(Alert.AlertType.ERROR);\\n            alert.setTitle(\"Invalid Fields\");\\n            alert.setHeaderText(\"Please correct invalid fields\");\\n            alert.setContentText(errorMessage);\\n            alert.showAndWait();\\n\\n            return false;\\n        }\\n    }\\n    \\n    @FXML\\n    public void closeAction(ActionEvent event) {\\n        ((Node) (event.getSource())).getScene().getWindow().hide();\\n    }\\n}\\n', 'label': 0}, {'text': 'package com.rafsan.inventory.controller.category;\\n\\nimport com.rafsan.inventory.interfaces.CategoryInterface;\\nimport com.rafsan.inventory.entity.Category;\\nimport com.rafsan.inventory.model.CategoryModel;\\nimport java.net.URL;\\nimport java.util.Optional;\\nimport java.util.ResourceBundle;\\nimport javafx.animation.TranslateTransition;\\nimport javafx.beans.binding.Bindings;\\nimport javafx.collections.transformation.FilteredList;\\nimport javafx.collections.transformation.SortedList;\\nimport javafx.event.ActionEvent;\\nimport javafx.fxml.FXML;\\nimport javafx.fxml.FXMLLoader;\\nimport javafx.fxml.Initializable;\\nimport javafx.scene.Node;\\nimport javafx.scene.Parent;\\nimport javafx.scene.Scene;\\nimport javafx.scene.control.Alert;\\nimport javafx.scene.control.Button;\\nimport javafx.scene.control.ButtonType;\\nimport javafx.scene.control.TableColumn;\\nimport javafx.scene.control.TableView;\\nimport javafx.scene.control.TextField;\\nimport javafx.scene.control.cell.PropertyValueFactory;\\nimport javafx.scene.image.Image;\\nimport javafx.scene.input.MouseEvent;\\nimport javafx.scene.layout.VBox;\\nimport javafx.stage.Modality;\\nimport javafx.stage.Stage;\\nimport javafx.stage.StageStyle;\\nimport javafx.util.Duration;\\n\\npublic class CategoryController implements Initializable, CategoryInterface {\\n\\n    @FXML\\n    private TableView<Category> categoryTable;\\n    @FXML\\n    private TableColumn<Category, Long> idColumn;\\n    @FXML\\n    private TableColumn<Category, String> typeColumn, descriptionColumn;\\n    @FXML\\n    private TextField searchField;\\n    @FXML\\n    private Button editButton, deleteButton;\\n    private CategoryModel model;\\n\\n    private double xOffset = 0;\\n    private double yOffset = 0;\\n\\n    @FXML\\n    private Button menu;\\n    @FXML\\n    private VBox drawer;\\n\\n    @Override\\n    public void initialize(URL location, ResourceBundle resources) {\\n        model = new CategoryModel();\\n\\n        drawerAction();\\n        loadData();\\n\\n        idColumn.setCellValueFactory(new PropertyValueFactory<>(\"id\"));\\n        typeColumn.setCellValueFactory(new PropertyValueFactory<>(\"type\"));\\n        descriptionColumn.setCellValueFactory(new PropertyValueFactory<>(\"description\"));\\n\\n        categoryTable.setItems(CATEGORYLIST);\\n\\n        filterData();\\n\\n        editButton\\n                .disableProperty()\\n                .bind(Bindings.isEmpty(categoryTable.getSelectionModel().getSelectedItems()));\\n        deleteButton\\n                .disableProperty()\\n                .bind(Bindings.isEmpty(categoryTable.getSelectionModel().getSelectedItems()));\\n    }\\n\\n    private void filterData() {\\n        FilteredList<Category> searchedData = new FilteredList<>(CATEGORYLIST, e -> true);\\n        searchField.setOnKeyReleased(e -> {\\n            searchField.textProperty().addListener((observable, oldValue, newValue) -> {\\n                searchedData.setPredicate(category -> {\\n                    if (newValue == null || newValue.isEmpty()) {\\n                        return true;\\n                    }\\n                    String lowerCaseFilter = newValue.toLowerCase();\\n                    if (category.getType().toLowerCase().contains(lowerCaseFilter)) {\\n                        return true;\\n                    } else if (category.getDescription().toLowerCase().contains(lowerCaseFilter)) {\\n                        return true;\\n                    }\\n                    return false;\\n                });\\n            });\\n\\n            SortedList<Category> sortedData = new SortedList<>(searchedData);\\n            sortedData.comparatorProperty().bind(categoryTable.comparatorProperty());\\n            categoryTable.setItems(sortedData);\\n        });\\n    }\\n\\n    private void loadData() {\\n\\n        if (!CATEGORYLIST.isEmpty()) {\\n            CATEGORYLIST.clear();\\n        }\\n        CATEGORYLIST.addAll(model.getCategories());\\n    }\\n\\n    private void drawerAction() {\\n\\n        TranslateTransition openNav = new TranslateTransition(new Duration(350), drawer);\\n        openNav.setToX(0);\\n        TranslateTransition closeNav = new TranslateTransition(new Duration(350), drawer);\\n        menu.setOnAction((ActionEvent evt) -> {\\n            if (drawer.getTranslateX() != 0) {\\n                openNav.play();\\n                menu.getStyleClass().remove(\"hamburger-button\");\\n                menu.getStyleClass().add(\"open-menu\");\\n            } else {\\n                closeNav.setToX(-(drawer.getWidth()));\\n                closeNav.play();\\n                menu.getStyleClass().remove(\"open-menu\");\\n                menu.getStyleClass().add(\"hamburger-button\");\\n            }\\n        });\\n    }\\n\\n    @FXML\\n    public void adminAction(ActionEvent event) throws Exception {\\n\\n        windows(\"/fxml/Admin.fxml\", \"Admin\", event);\\n    }\\n\\n    @FXML\\n    public void productAction(ActionEvent event) throws Exception {\\n\\n        windows(\"/fxml/Product.fxml\", \"Product\", event);\\n    }\\n\\n    @FXML\\n    public void purchaseAction(ActionEvent event) throws Exception {\\n\\n        windows(\"/fxml/Purchase.fxml\", \"Purchase\", event);\\n    }\\n\\n    @FXML\\n    public void salesAction(ActionEvent event) throws Exception {\\n\\n        windows(\"/fxml/Sales.fxml\", \"Sales\", event);\\n    }\\n\\n    @FXML\\n    public void supplierAction(ActionEvent event) throws Exception {\\n        windows(\"/fxml/Supplier.fxml\", \"Supplier\", event);\\n    }\\n\\n    @FXML\\n    public void reportAction(ActionEvent event) throws Exception {\\n        windows(\"/fxml/Report.fxml\", \"Report\", event);\\n    }\\n\\n    @FXML\\n    public void staffAction(ActionEvent event) throws Exception {\\n        windows(\"/fxml/Employee.fxml\", \"Employee\", event);\\n    }\\n\\n    @FXML\\n    public void logoutAction(ActionEvent event) throws Exception {\\n        ((Node) (event.getSource())).getScene().getWindow().hide();\\n        Parent root = FXMLLoader.load(getClass().getResource(\"/fxml/Login.fxml\"));\\n        Stage stage = new Stage();\\n        root.setOnMousePressed((MouseEvent e) -> {\\n            xOffset = e.getSceneX();\\n            yOffset = e.getSceneY();\\n        });\\n        root.setOnMouseDragged((MouseEvent e) -> {\\n            stage.setX(e.getScreenX() - xOffset);\\n            stage.setY(e.getScreenY() - yOffset);\\n        });\\n        Scene scene = new Scene(root);\\n        stage.setTitle(\"Inventory:: Version 1.0\");\\n        stage.getIcons().add(new Image(\"/images/logo.png\"));\\n        stage.initStyle(StageStyle.UNDECORATED);\\n        stage.setScene(scene);\\n        stage.show();\\n    }\\n\\n    private void windows(String path, String title, ActionEvent event) throws Exception {\\n\\n        double width = ((Node) event.getSource()).getScene().getWidth();\\n        double height = ((Node) event.getSource()).getScene().getHeight();\\n\\n        Parent root = FXMLLoader.load(getClass().getResource(path));\\n        Scene scene = new Scene(root, width, height);\\n        Stage stage = (Stage) ((Node) event.getSource()).getScene().getWindow();\\n        stage.setTitle(title);\\n        stage.getIcons().add(new Image(\"/images/logo.png\"));\\n        stage.setScene(scene);\\n        stage.show();\\n    }\\n\\n    @FXML\\n    public void addAction(ActionEvent event) throws Exception {\\n\\n        Parent root = FXMLLoader.load(getClass().getResource(\"/fxml/category/Add.fxml\"));\\n        Scene scene = new Scene(root);\\n        Stage stage = new Stage();\\n        root.setOnMousePressed((MouseEvent e) -> {\\n            xOffset = e.getSceneX();\\n            yOffset = e.getSceneY();\\n        });\\n        root.setOnMouseDragged((MouseEvent e) -> {\\n            stage.setX(e.getScreenX() - xOffset);\\n            stage.setY(e.getScreenY() - yOffset);\\n        });\\n        stage.initModality(Modality.APPLICATION_MODAL);\\n        stage.setTitle(\"New Category\");\\n        stage.getIcons().add(new Image(\"/images/logo.png\"));\\n        stage.initStyle(StageStyle.UNDECORATED);\\n        stage.setScene(scene);\\n        stage.show();\\n    }\\n\\n    @FXML\\n    public void editAction(ActionEvent event) throws Exception {\\n\\n        Category selectedCategory = categoryTable.getSelectionModel().getSelectedItem();\\n        int selectedCategoryId = categoryTable.getSelectionModel().getSelectedIndex();\\n        FXMLLoader loader = new FXMLLoader((getClass().getResource(\"/fxml/category/Edit.fxml\")));\\n        EditController controller = new EditController();\\n        loader.setController(controller);\\n        Parent root = loader.load();\\n        Scene scene = new Scene(root);\\n        Stage stage = new Stage();\\n        root.setOnMousePressed((MouseEvent e) -> {\\n            xOffset = e.getSceneX();\\n            yOffset = e.getSceneY();\\n        });\\n        root.setOnMouseDragged((MouseEvent e) -> {\\n            stage.setX(e.getScreenX() - xOffset);\\n            stage.setY(e.getScreenY() - yOffset);\\n        });\\n        stage.initModality(Modality.APPLICATION_MODAL);\\n        stage.setTitle(\"Edit Category\");\\n        stage.getIcons().add(new Image(\"/images/logo.png\"));\\n        stage.initStyle(StageStyle.UNDECORATED);\\n        stage.setScene(scene);\\n        stage.show();\\n        controller.setCategory(selectedCategory, selectedCategoryId);\\n        categoryTable.getSelectionModel().clearSelection();\\n    }\\n\\n    @FXML\\n    public void deleteAction(ActionEvent event) {\\n\\n        Alert alert = new Alert(Alert.AlertType.CONFIRMATION);\\n        alert.setTitle(\"Delete\");\\n        alert.setHeaderText(\"Delete Product\");\\n        alert.setContentText(\"Are you sure?\");\\n\\n        Optional<ButtonType> result = alert.showAndWait();\\n        if (result.get() == ButtonType.OK) {\\n            Category selectedCategory = categoryTable.getSelectionModel().getSelectedItem();\\n\\n            model.deleteCategory(selectedCategory);\\n            CATEGORYLIST.remove(selectedCategory);\\n        }\\n\\n        categoryTable.getSelectionModel().clearSelection();\\n    }\\n}\\n', 'label': 0}, {'text': 'package com.rafsan.inventory.controller.category;\\n\\nimport com.rafsan.inventory.entity.Category;\\nimport com.rafsan.inventory.interfaces.CategoryInterface;\\nimport com.rafsan.inventory.model.CategoryModel;\\nimport java.net.URL;\\nimport java.util.ResourceBundle;\\nimport javafx.event.ActionEvent;\\nimport javafx.fxml.FXML;\\nimport javafx.fxml.Initializable;\\nimport javafx.scene.Node;\\nimport javafx.scene.control.Alert;\\nimport javafx.scene.control.Button;\\nimport javafx.scene.control.TextArea;\\nimport javafx.scene.control.TextField;\\nimport javafx.stage.Stage;\\n\\npublic class EditController implements Initializable, CategoryInterface {\\n\\n    @FXML\\n    private TextField typeField;\\n    @FXML\\n    private TextArea descriptionArea;\\n    private long selectedCategoryId;\\n    @FXML\\n    private Button saveButton;\\n    private CategoryModel categoryModel;\\n    private Category category;\\n\\n    @Override\\n    public void initialize(URL location, ResourceBundle resources) {\\n\\n        categoryModel = new CategoryModel();\\n        resetValues();\\n    }\\n\\n    public void setCategory(Category category, long selectedCategoryId) {\\n        this.category = category;\\n        this.selectedCategoryId = selectedCategoryId;\\n        setData();\\n    }\\n\\n    @FXML\\n    public void handleSave(ActionEvent event) {\\n\\n        if (validateInput()) {\\n\\n            Category editedCategory = new Category(\\n                    category.getId(),\\n                    typeField.getText(),\\n                    descriptionArea.getText()\\n            );\\n\\n            categoryModel.updateCategory(editedCategory);\\n            CATEGORYLIST.set((int) selectedCategoryId, editedCategory);\\n\\n            ((Stage) saveButton.getScene().getWindow()).close();\\n\\n            Alert alert = new Alert(Alert.AlertType.INFORMATION);\\n            alert.setTitle(\"Successful\");\\n            alert.setHeaderText(\"Category Updated!\");\\n            alert.setContentText(\"Category is updated successfully\");\\n            alert.showAndWait();\\n        }\\n    }\\n\\n    private void setData() {\\n        typeField.setText(category.getType());\\n        descriptionArea.setText(category.getDescription());\\n    }\\n\\n    private void resetValues() {\\n        typeField.setText(\"\");\\n        descriptionArea.setText(\"\");\\n    }\\n\\n    @FXML\\n    public void handleCancel(ActionEvent event) {\\n        resetValues();\\n    }\\n\\n    private boolean validateInput() {\\n\\n        String errorMessage = \"\";\\n\\n        if (typeField.getText() == null || typeField.getText().length() == 0) {\\n            errorMessage += \"No valid name!\\\\n\";\\n        }\\n\\n        if (descriptionArea.getText() == null || descriptionArea.getText().length() == 0) {\\n            errorMessage += \"No email description!\\\\n\";\\n        }\\n\\n        if (errorMessage.length() == 0) {\\n            return true;\\n        } else {\\n            Alert alert = new Alert(Alert.AlertType.ERROR);\\n            alert.setTitle(\"Invalid Fields\");\\n            alert.setHeaderText(\"Please correct invalid fields\");\\n            alert.setContentText(errorMessage);\\n            alert.showAndWait();\\n\\n            return false;\\n        }\\n    }\\n    \\n    @FXML\\n    public void closeAction(ActionEvent event) {\\n        ((Node) (event.getSource())).getScene().getWindow().hide();\\n    }\\n}\\n', 'label': 0}, {'text': 'package com.rafsan.inventory.controller.employee;\\n\\nimport com.rafsan.inventory.entity.Employee;\\nimport com.rafsan.inventory.interfaces.EmployeeInterface;\\nimport com.rafsan.inventory.model.EmployeeModel;\\nimport java.net.URL;\\nimport java.util.ResourceBundle;\\nimport javafx.event.ActionEvent;\\nimport javafx.fxml.FXML;\\nimport javafx.fxml.Initializable;\\nimport javafx.scene.Node;\\nimport javafx.scene.control.Alert;\\nimport javafx.scene.control.Button;\\nimport javafx.scene.control.PasswordField;\\nimport javafx.scene.control.TextArea;\\nimport javafx.scene.control.TextField;\\nimport javafx.stage.Stage;\\nimport org.apache.commons.codec.digest.DigestUtils;\\n\\npublic class AddController implements Initializable, EmployeeInterface {\\n\\n    @FXML\\n    private TextField firstField, lastField, usernameField, phoneField;\\n    @FXML\\n    private PasswordField passwordField;\\n    @FXML\\n    private TextArea addressArea;\\n    @FXML\\n    private Button saveButton;\\n    private EmployeeModel employeeModel;\\n\\n    @Override\\n    public void initialize(URL location, ResourceBundle resources) {\\n        employeeModel = new EmployeeModel();\\n    }\\n\\n    @FXML\\n    public void handleCancel(ActionEvent event) {\\n        firstField.setText(\"\");\\n        lastField.setText(\"\");\\n        usernameField.setText(\"\");\\n        passwordField.setText(\"\");\\n        phoneField.setText(\"\");\\n        addressArea.setText(\"\");\\n    }\\n\\n    @FXML\\n    public void handleSave(ActionEvent event) {\\n\\n        if (validateInput()) {\\n\\n            Employee employee = new Employee(\\n                    firstField.getText(),\\n                    lastField.getText(),\\n                    usernameField.getText(),\\n                    DigestUtils.sha1Hex(passwordField.getText()),\\n                    phoneField.getText(),\\n                    addressArea.getText()\\n            );\\n\\n            employeeModel.saveEmployee(employee);\\n            EMPLOYEELIST.clear();\\n            EMPLOYEELIST.addAll(employeeModel.getEmployees());\\n\\n            ((Stage) saveButton.getScene().getWindow()).close();\\n\\n            Alert alert = new Alert(Alert.AlertType.INFORMATION);\\n            alert.setTitle(\"Successful\");\\n            alert.setHeaderText(\"Employe Created!\");\\n            alert.setContentText(\"Employee is created successfully\");\\n            alert.showAndWait();\\n        }\\n    }\\n\\n    private boolean validateInput() {\\n\\n        String errorMessage = \"\";\\n\\n        if (firstField.getText() == null || firstField.getText().length() == 0) {\\n            errorMessage += \"No valid first name!\\\\n\";\\n        }\\n\\n        if (lastField.getText() == null || lastField.getText().length() == 0) {\\n            errorMessage += \"No valid last name!\\\\n\";\\n        }\\n\\n        if (usernameField.getText() == null || usernameField.getText().length() == 0) {\\n            errorMessage += \"No valid username!\\\\n\";\\n        }\\n\\n        if (passwordField.getText() == null || passwordField.getText().length() == 0) {\\n            errorMessage += \"No valid password!\\\\n\";\\n        }\\n\\n        if (phoneField.getText() == null || phoneField.getText().length() == 0) {\\n            errorMessage += \"No valid phone number!\\\\n\";\\n        }\\n\\n        if (addressArea.getText() == null || addressArea.getText().length() == 0) {\\n            errorMessage += \"No email address!\\\\n\";\\n        }\\n\\n        if (errorMessage.length() == 0) {\\n            return true;\\n        } else {\\n            Alert alert = new Alert(Alert.AlertType.ERROR);\\n            alert.setTitle(\"Invalid Fields\");\\n            alert.setHeaderText(\"Please correct invalid fields\");\\n            alert.setContentText(errorMessage);\\n            alert.showAndWait();\\n\\n            return false;\\n        }\\n    }\\n\\n    @FXML\\n    public void closeAction(ActionEvent event) {\\n        ((Node) (event.getSource())).getScene().getWindow().hide();\\n    }\\n}\\n', 'label': 0}]\n"
     ]
    }
   ],
   "source": [
    "# TODO : Add fine tuning examples here (use POS classes to begin with)\n",
    "\n",
    "# Labels are 0: Application, 1: Utility, 2: Entity\n",
    "\n",
    "def process_file(filepath, label):\n",
    "    with open(filepath, 'r') as f:\n",
    "        for line in f:\n",
    "            class_labels[line.strip()] = label\n",
    "\n",
    "class_labels = {}\n",
    "process_file(\"ground_truths/v_imen/pos/classes/application.txt\", 0)\n",
    "process_file(\"ground_truths/v_imen/pos/classes/utility.txt\", 1)\n",
    "process_file(\"ground_truths/v_imen/pos/classes/entity.txt\", 2)\n",
    "\n",
    "root_folder = 'src_code/pos/src_code_formatted/'\n",
    "\n",
    "def read_java_file(file_path):\n",
    "    with open(file_path, encoding=\"ISO-8859-1\", errors=\"ignore\") as java_file:\n",
    "        return java_file.read()\n",
    "\n",
    "class_code = {file.replace(\".java\", \"\"): read_java_file(os.path.join(root_folder, file))\n",
    "                for file in os.listdir(root_folder)}\n",
    "\n",
    "# Put data in the below format by combining class_code and class_labels based on key if label exists\n",
    "# examples = [\n",
    "#     {\"text\": \"<your Java class code here>\", \"label\": 0},\n",
    "#     {\"text\": \"<another Java class code here>\", \"label\": 1},\n",
    "#     ...]\n",
    "\n",
    "\n",
    "examples = []\n",
    "for key in class_code.keys():\n",
    "    if key in class_labels.keys():\n",
    "        examples.append({\"text\": class_code[key], \"label\": class_labels[key]})\n",
    "\n",
    "# Print first 5 examples\n",
    "print(examples[:5])"
   ]
  },
  {
   "cell_type": "markdown",
   "metadata": {},
   "source": [
    "#### 3. Fine-tuning and optimization"
   ]
  },
  {
   "cell_type": "code",
   "execution_count": 6,
   "metadata": {},
   "outputs": [],
   "source": [
    "# Implement a PyTorch Dataset\n",
    "class CodingDataset(Dataset):\n",
    "    def __init__(self, examples, tokenizer):\n",
    "        self.examples = examples\n",
    "        self.tokenizer = tokenizer\n",
    "        \n",
    "    def __len__(self):\n",
    "        return len(self.examples)\n",
    "        \n",
    "    def __getitem__(self, idx):\n",
    "        example = self.examples[idx]\n",
    "        encoding = self.tokenizer(example['text'], padding='max_length', truncation=True, max_length=512, return_tensors='pt')\n",
    "        encoding = {key: torch.flatten(value) for key, value in encoding.items()}  # Flatten tensors\n",
    "        encoding['labels'] = torch.tensor(example['label'])\n",
    "        return encoding"
   ]
  },
  {
   "cell_type": "code",
   "execution_count": 7,
   "metadata": {},
   "outputs": [
    {
     "name": "stderr",
     "output_type": "stream",
     "text": [
      "Some weights of RobertaForSequenceClassification were not initialized from the model checkpoint at microsoft/codebert-base and are newly initialized: ['classifier.dense.bias', 'classifier.out_proj.bias', 'classifier.dense.weight', 'classifier.out_proj.weight']\n",
      "You should probably TRAIN this model on a down-stream task to be able to use it for predictions and inference.\n"
     ]
    }
   ],
   "source": [
    "# Split your data into train and validation sets\n",
    "train_examples, val_examples = train_test_split(examples, test_size=0.1)\n",
    "\n",
    "tokenizer = AutoTokenizer.from_pretrained(\"microsoft/codebert-base\", force_download=False)\n",
    "model = AutoModelForSequenceClassification.from_pretrained(\"microsoft/codebert-base\", num_labels=3, force_download=False)\n",
    "model = model.to(device)\n",
    "\n",
    "best_params = None"
   ]
  },
  {
   "cell_type": "code",
   "execution_count": 8,
   "metadata": {},
   "outputs": [],
   "source": [
    "# Define objective function for optuna to optimize\n",
    "def objective(trial):\n",
    "    # Define hyperparameters for this trial\n",
    "    lr = trial.suggest_loguniform('lr', 1e-5, 1e-1)  # Learning rate\n",
    "    batch_size = trial.suggest_categorical('batch_size', [8, 16, 32, 64])  # Batch size\n",
    "\n",
    "    # Create data loaders\n",
    "    train_dataset = CodingDataset(train_examples, tokenizer)\n",
    "    val_dataset = CodingDataset(val_examples, tokenizer)\n",
    "\n",
    "    # Specify the training arguments\n",
    "    training_args = TrainingArguments(\n",
    "        output_dir='./results',\n",
    "        num_train_epochs=trial.suggest_int('num_train_epochs', 1, 10), # tune hyperparameter here\n",
    "        learning_rate=lr,\n",
    "        per_device_train_batch_size=batch_size,\n",
    "        logging_dir='./logs',\n",
    "    )\n",
    "\n",
    "    # Training\n",
    "    trainer = Trainer(\n",
    "        model=model,\n",
    "        args=training_args,  \n",
    "        train_dataset=train_dataset,         \n",
    "        eval_dataset=val_dataset             \n",
    "    )\n",
    "\n",
    "    trainer.train()\n",
    "\n",
    "    # Evaluate the model on the validation set\n",
    "    eval_result = trainer.evaluate()\n",
    "        \n",
    "    # Optuna seeks for the minimum so return loss as it is\n",
    "    return eval_result[\"eval_loss\"]"
   ]
  },
  {
   "cell_type": "code",
   "execution_count": 9,
   "metadata": {},
   "outputs": [],
   "source": [
    "# TODO : Eventually, add argument to .py script to run optuna if desired\n",
    "if False:\n",
    "    # Create a study to run the hyperparameter optimization\n",
    "    study = optuna.create_study(direction=\"minimize\")\n",
    "\n",
    "    # Run the optimization\n",
    "    study.optimize(objective, n_trials=10)\n",
    "\n",
    "    # Print the results\n",
    "    best_params = study.best_params\n",
    "    print(f\"Best hyperparameters: {best_params}\")"
   ]
  },
  {
   "cell_type": "code",
   "execution_count": 10,
   "metadata": {},
   "outputs": [],
   "source": [
    "def custom_collate_fn(batch):\n",
    "    keys = batch[0].keys()\n",
    "    output_batch = {key: torch.stack([item[key] for item in batch]) for key in keys}\n",
    "    return output_batch"
   ]
  },
  {
   "cell_type": "code",
   "execution_count": 11,
   "metadata": {},
   "outputs": [
    {
     "name": "stdout",
     "output_type": "stream",
     "text": [
      "Training completed.\n",
      "Training completed.\n",
      "Training completed.\n",
      "Training completed.\n",
      "Training completed.\n",
      "Training completed.\n",
      "Training completed.\n",
      "Training completed.\n"
     ]
    }
   ],
   "source": [
    "# Trial 4 finished with value: 0.0006419435958378017 and parameters: {'lr': 0.0002536818790618518, 'batch_size': 16, 'num_train_epochs': 8}. \n",
    "# Best is trial 4 with value: 0.0006419435958378017.\n",
    "\n",
    "if best_params is None:\n",
    "    best_params = {'lr': 0.0002536818790618518, 'batch_size': 16, 'num_train_epochs': 8}\n",
    "\n",
    "# Fine tuning the model with the best parameters\n",
    "dataset = CodingDataset(examples, tokenizer)\n",
    "dataloader = DataLoader(dataset, batch_size=best_params['batch_size'], collate_fn=custom_collate_fn)\n",
    "\n",
    "# We'll use Adam as our optimizer\n",
    "optimizer = torch.optim.Adam(model.parameters(), lr=best_params['lr'])\n",
    "\n",
    "# Put your model into training mode\n",
    "model.train()\n",
    "\n",
    "# Training loop\n",
    "epochs = best_params['num_train_epochs'] # for fine tune, we also use best epochs\n",
    "for epoch in range(epochs):\n",
    "    for idx, batch in enumerate(dataloader):\n",
    "        batch = {key: value.to(device) for key, value in batch.items()} # moving batch data to the device\n",
    "        optimizer.zero_grad()  # Reset gradients\n",
    "        outputs = model(**batch)  # Forward pass\n",
    "        loss = outputs.loss  # Calculate the loss from the outputs\n",
    "        loss.backward()  # Backpropagation\n",
    "        optimizer.step()  # Adjust model weights based on gradients\n",
    "\n",
    "    print(\"Training completed.\")"
   ]
  },
  {
   "cell_type": "code",
   "execution_count": 12,
   "metadata": {},
   "outputs": [
    {
     "data": {
      "text/plain": [
       "('./codebert_finetuned\\\\tokenizer_config.json',\n",
       " './codebert_finetuned\\\\special_tokens_map.json',\n",
       " './codebert_finetuned\\\\vocab.json',\n",
       " './codebert_finetuned\\\\merges.txt',\n",
       " './codebert_finetuned\\\\added_tokens.json',\n",
       " './codebert_finetuned\\\\tokenizer.json')"
      ]
     },
     "execution_count": 12,
     "metadata": {},
     "output_type": "execute_result"
    }
   ],
   "source": [
    "# Save the model\n",
    "model.save_pretrained(\"./codebert_finetuned\")\n",
    "tokenizer.save_pretrained(\"./codebert_finetuned\")"
   ]
  },
  {
   "cell_type": "markdown",
   "metadata": {},
   "source": [
    "#### 4. Embedding generation"
   ]
  },
  {
   "cell_type": "code",
   "execution_count": 13,
   "metadata": {},
   "outputs": [
    {
     "name": "stderr",
     "output_type": "stream",
     "text": [
      "Some weights of RobertaModel were not initialized from the model checkpoint at ./codebert_finetuned and are newly initialized: ['roberta.pooler.dense.weight', 'roberta.pooler.dense.bias']\n",
      "You should probably TRAIN this model on a down-stream task to be able to use it for predictions and inference.\n",
      "Special tokens have been added in the vocabulary, make sure the associated word embeddings are fine-tuned or trained.\n"
     ]
    },
    {
     "ename": "NameError",
     "evalue": "name 'generate_embeddings_for_java_file' is not defined",
     "output_type": "error",
     "traceback": [
      "\u001b[1;31m---------------------------------------------------------------------------\u001b[0m",
      "\u001b[1;31mNameError\u001b[0m                                 Traceback (most recent call last)",
      "\u001b[1;32mc:\\Users\\bianc\\Documents\\GitHub\\MicroserviceML\\finetune_codebert.ipynb Cell 15\u001b[0m line \u001b[0;36m1\n\u001b[0;32m     <a href='vscode-notebook-cell:/c%3A/Users/bianc/Documents/GitHub/MicroserviceML/finetune_codebert.ipynb#X21sZmlsZQ%3D%3D?line=11'>12</a>\u001b[0m class_embeddings \u001b[39m=\u001b[39m {}\n\u001b[0;32m     <a href='vscode-notebook-cell:/c%3A/Users/bianc/Documents/GitHub/MicroserviceML/finetune_codebert.ipynb#X21sZmlsZQ%3D%3D?line=12'>13</a>\u001b[0m \u001b[39mfor\u001b[39;00m class_name, code \u001b[39min\u001b[39;00m class_code\u001b[39m.\u001b[39mitems():\n\u001b[1;32m---> <a href='vscode-notebook-cell:/c%3A/Users/bianc/Documents/GitHub/MicroserviceML/finetune_codebert.ipynb#X21sZmlsZQ%3D%3D?line=13'>14</a>\u001b[0m     class_embeddings[class_name] \u001b[39m=\u001b[39m generate_embeddings_for_java_file(code, model, tokenizer, device)\n\u001b[0;32m     <a href='vscode-notebook-cell:/c%3A/Users/bianc/Documents/GitHub/MicroserviceML/finetune_codebert.ipynb#X21sZmlsZQ%3D%3D?line=15'>16</a>\u001b[0m save_embeddings_to_csv(version, system, \u001b[39m'\u001b[39m\u001b[39mft_codebert\u001b[39m\u001b[39m'\u001b[39m, class_embeddings)\n",
      "\u001b[1;31mNameError\u001b[0m: name 'generate_embeddings_for_java_file' is not defined"
     ]
    }
   ],
   "source": [
    "# Load the fine-tuned model and tokenizer\n",
    "model = AutoModel.from_pretrained(\"./codebert_finetuned\")\n",
    "tokenizer = AutoTokenizer.from_pretrained(\"./codebert_finetuned\", force_download=False)  # Use the fine-tuned tokenizer\n",
    "\n",
    "model = model.to(device)\n",
    "version = 'v_team'\n",
    "\n",
    "# TODO : Generate embeddings for all systems, save them to csv file and use them in the next step\n",
    "for system in ['jforum']:\n",
    "    class_code = load_class_code_from_directory(system)\n",
    "\n",
    "    class_embeddings = {}\n",
    "    for class_name, code in class_code.items():\n",
    "        class_embeddings[class_name] = generate_embeddings_for_java_file(code, model, tokenizer, device)\n",
    "\n",
    "    save_embeddings_to_csv(version, system, 'ft_codebert', class_embeddings)"
   ]
  }
 ],
 "metadata": {
  "kernelspec": {
   "display_name": "sys800",
   "language": "python",
   "name": "python3"
  },
  "language_info": {
   "codemirror_mode": {
    "name": "ipython",
    "version": 3
   },
   "file_extension": ".py",
   "mimetype": "text/x-python",
   "name": "python",
   "nbconvert_exporter": "python",
   "pygments_lexer": "ipython3",
   "version": "3.11.5"
  },
  "orig_nbformat": 4
 },
 "nbformat": 4,
 "nbformat_minor": 2
}
